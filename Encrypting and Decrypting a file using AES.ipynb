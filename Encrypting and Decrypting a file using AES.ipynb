{
 "cells": [
  {
   "cell_type": "code",
   "execution_count": 1,
   "metadata": {},
   "outputs": [],
   "source": [
    "docA = \"english speaking language is a basics  for english speaking beginners help understand the basics speaking english\"\n",
    "docB = \"a wonderful thing about english and languages in general is that once you know the basics for learning gets  easier\""
   ]
  },
  {
   "cell_type": "code",
   "execution_count": 2,
   "metadata": {},
   "outputs": [],
   "source": [
    "bowA = docA.split(\" \")\n",
    "bowB = docB.split(\" \")"
   ]
  },
  {
   "cell_type": "code",
   "execution_count": 3,
   "metadata": {},
   "outputs": [
    {
     "data": {
      "text/plain": [
       "['a',\n",
       " 'wonderful',\n",
       " 'thing',\n",
       " 'about',\n",
       " 'english',\n",
       " 'and',\n",
       " 'languages',\n",
       " 'in',\n",
       " 'general',\n",
       " 'is',\n",
       " 'that',\n",
       " 'once',\n",
       " 'you',\n",
       " 'know',\n",
       " 'the',\n",
       " 'basics',\n",
       " 'for',\n",
       " 'learning',\n",
       " 'gets',\n",
       " '',\n",
       " 'easier']"
      ]
     },
     "execution_count": 3,
     "metadata": {},
     "output_type": "execute_result"
    }
   ],
   "source": [
    "\n",
    "bowB"
   ]
  },
  {
   "cell_type": "code",
   "execution_count": 4,
   "metadata": {},
   "outputs": [],
   "source": [
    "wordSet = set(bowA).union(set(bowB))\n"
   ]
  },
  {
   "cell_type": "code",
   "execution_count": 5,
   "metadata": {},
   "outputs": [
    {
     "data": {
      "text/plain": [
       "{'',\n",
       " 'a',\n",
       " 'about',\n",
       " 'and',\n",
       " 'basics',\n",
       " 'beginners',\n",
       " 'easier',\n",
       " 'english',\n",
       " 'for',\n",
       " 'general',\n",
       " 'gets',\n",
       " 'help',\n",
       " 'in',\n",
       " 'is',\n",
       " 'know',\n",
       " 'language',\n",
       " 'languages',\n",
       " 'learning',\n",
       " 'once',\n",
       " 'speaking',\n",
       " 'that',\n",
       " 'the',\n",
       " 'thing',\n",
       " 'understand',\n",
       " 'wonderful',\n",
       " 'you'}"
      ]
     },
     "execution_count": 5,
     "metadata": {},
     "output_type": "execute_result"
    }
   ],
   "source": [
    "wordSet"
   ]
  },
  {
   "cell_type": "code",
   "execution_count": 6,
   "metadata": {},
   "outputs": [],
   "source": [
    "wordDictA = dict.fromkeys(wordSet, 0) \n",
    "wordDictB = dict.fromkeys(wordSet, 0)"
   ]
  },
  {
   "cell_type": "code",
   "execution_count": 7,
   "metadata": {},
   "outputs": [
    {
     "data": {
      "text/plain": [
       "{'': 0,\n",
       " 'easier': 0,\n",
       " 'speaking': 0,\n",
       " 'and': 0,\n",
       " 'you': 0,\n",
       " 'a': 0,\n",
       " 'basics': 0,\n",
       " 'wonderful': 0,\n",
       " 'know': 0,\n",
       " 'that': 0,\n",
       " 'is': 0,\n",
       " 'languages': 0,\n",
       " 'gets': 0,\n",
       " 'learning': 0,\n",
       " 'english': 0,\n",
       " 'beginners': 0,\n",
       " 'in': 0,\n",
       " 'general': 0,\n",
       " 'for': 0,\n",
       " 'about': 0,\n",
       " 'language': 0,\n",
       " 'once': 0,\n",
       " 'the': 0,\n",
       " 'help': 0,\n",
       " 'understand': 0,\n",
       " 'thing': 0}"
      ]
     },
     "execution_count": 7,
     "metadata": {},
     "output_type": "execute_result"
    }
   ],
   "source": [
    "\n",
    "wordDictA"
   ]
  },
  {
   "cell_type": "code",
   "execution_count": 8,
   "metadata": {},
   "outputs": [],
   "source": [
    "for word in bowA:\n",
    "    wordDictA[word]+=1\n",
    "    \n",
    "for word in bowB:\n",
    "    wordDictB[word]+=1"
   ]
  },
  {
   "cell_type": "code",
   "execution_count": 9,
   "metadata": {},
   "outputs": [
    {
     "data": {
      "text/plain": [
       "{'': 1,\n",
       " 'easier': 0,\n",
       " 'speaking': 3,\n",
       " 'and': 0,\n",
       " 'you': 0,\n",
       " 'a': 1,\n",
       " 'basics': 2,\n",
       " 'wonderful': 0,\n",
       " 'know': 0,\n",
       " 'that': 0,\n",
       " 'is': 1,\n",
       " 'languages': 0,\n",
       " 'gets': 0,\n",
       " 'learning': 0,\n",
       " 'english': 3,\n",
       " 'beginners': 1,\n",
       " 'in': 0,\n",
       " 'general': 0,\n",
       " 'for': 1,\n",
       " 'about': 0,\n",
       " 'language': 1,\n",
       " 'once': 0,\n",
       " 'the': 1,\n",
       " 'help': 1,\n",
       " 'understand': 1,\n",
       " 'thing': 0}"
      ]
     },
     "execution_count": 9,
     "metadata": {},
     "output_type": "execute_result"
    }
   ],
   "source": [
    "wordDictA"
   ]
  },
  {
   "cell_type": "code",
   "execution_count": 10,
   "metadata": {},
   "outputs": [
    {
     "data": {
      "text/html": [
       "<div>\n",
       "<style scoped>\n",
       "    .dataframe tbody tr th:only-of-type {\n",
       "        vertical-align: middle;\n",
       "    }\n",
       "\n",
       "    .dataframe tbody tr th {\n",
       "        vertical-align: top;\n",
       "    }\n",
       "\n",
       "    .dataframe thead th {\n",
       "        text-align: right;\n",
       "    }\n",
       "</style>\n",
       "<table border=\"1\" class=\"dataframe\">\n",
       "  <thead>\n",
       "    <tr style=\"text-align: right;\">\n",
       "      <th></th>\n",
       "      <th></th>\n",
       "      <th>a</th>\n",
       "      <th>about</th>\n",
       "      <th>and</th>\n",
       "      <th>basics</th>\n",
       "      <th>beginners</th>\n",
       "      <th>easier</th>\n",
       "      <th>english</th>\n",
       "      <th>for</th>\n",
       "      <th>general</th>\n",
       "      <th>gets</th>\n",
       "      <th>help</th>\n",
       "      <th>in</th>\n",
       "      <th>is</th>\n",
       "      <th>know</th>\n",
       "      <th>language</th>\n",
       "      <th>languages</th>\n",
       "      <th>learning</th>\n",
       "      <th>once</th>\n",
       "      <th>speaking</th>\n",
       "      <th>that</th>\n",
       "      <th>the</th>\n",
       "      <th>thing</th>\n",
       "      <th>understand</th>\n",
       "      <th>wonderful</th>\n",
       "      <th>you</th>\n",
       "    </tr>\n",
       "  </thead>\n",
       "  <tbody>\n",
       "    <tr>\n",
       "      <th>0</th>\n",
       "      <td>1</td>\n",
       "      <td>1</td>\n",
       "      <td>0</td>\n",
       "      <td>0</td>\n",
       "      <td>2</td>\n",
       "      <td>1</td>\n",
       "      <td>0</td>\n",
       "      <td>3</td>\n",
       "      <td>1</td>\n",
       "      <td>0</td>\n",
       "      <td>0</td>\n",
       "      <td>1</td>\n",
       "      <td>0</td>\n",
       "      <td>1</td>\n",
       "      <td>0</td>\n",
       "      <td>1</td>\n",
       "      <td>0</td>\n",
       "      <td>0</td>\n",
       "      <td>0</td>\n",
       "      <td>3</td>\n",
       "      <td>0</td>\n",
       "      <td>1</td>\n",
       "      <td>0</td>\n",
       "      <td>1</td>\n",
       "      <td>0</td>\n",
       "      <td>0</td>\n",
       "    </tr>\n",
       "    <tr>\n",
       "      <th>1</th>\n",
       "      <td>1</td>\n",
       "      <td>1</td>\n",
       "      <td>1</td>\n",
       "      <td>1</td>\n",
       "      <td>1</td>\n",
       "      <td>0</td>\n",
       "      <td>1</td>\n",
       "      <td>1</td>\n",
       "      <td>1</td>\n",
       "      <td>1</td>\n",
       "      <td>1</td>\n",
       "      <td>0</td>\n",
       "      <td>1</td>\n",
       "      <td>1</td>\n",
       "      <td>1</td>\n",
       "      <td>0</td>\n",
       "      <td>1</td>\n",
       "      <td>1</td>\n",
       "      <td>1</td>\n",
       "      <td>0</td>\n",
       "      <td>1</td>\n",
       "      <td>1</td>\n",
       "      <td>1</td>\n",
       "      <td>0</td>\n",
       "      <td>1</td>\n",
       "      <td>1</td>\n",
       "    </tr>\n",
       "  </tbody>\n",
       "</table>\n",
       "</div>"
      ],
      "text/plain": [
       "      a  about  and  basics  beginners  easier  \\\n",
       "0  1  1      0    0       2          1       0   \n",
       "1  1  1      1    1       1          0       1   \n",
       "\n",
       "   english  for  general  gets  help  in  is  \\\n",
       "0        3    1        0     0     1   0   1   \n",
       "1        1    1        1     1     0   1   1   \n",
       "\n",
       "   know  language  languages  learning  once  \\\n",
       "0     0         1          0         0     0   \n",
       "1     1         0          1         1     1   \n",
       "\n",
       "   speaking  that  the  thing  understand  \\\n",
       "0         3     0    1      0           1   \n",
       "1         0     1    1      1           0   \n",
       "\n",
       "   wonderful  you  \n",
       "0          0    0  \n",
       "1          1    1  "
      ]
     },
     "execution_count": 10,
     "metadata": {},
     "output_type": "execute_result"
    }
   ],
   "source": [
    "import pandas as pd\n",
    "pd.set_option('display.max_rows', 3)\n",
    "pd.set_option('display.max_columns', 33)\n",
    "pd.set_option('display.width', 50)\n",
    "pd.DataFrame([wordDictA, wordDictB])"
   ]
  },
  {
   "cell_type": "code",
   "execution_count": 11,
   "metadata": {},
   "outputs": [],
   "source": [
    "def computeTF(wordDict, bow):\n",
    "    tfDict = {}\n",
    "    bowCount = len(bow)\n",
    "    for word, count in wordDict.items():\n",
    "        tfDict[word] = count/float(bowCount)\n",
    "    return tfDict"
   ]
  },
  {
   "cell_type": "code",
   "execution_count": 12,
   "metadata": {},
   "outputs": [],
   "source": [
    "tfBowA = computeTF(wordDictA, bowA)\n",
    "tfBowB = computeTF(wordDictB, bowB)"
   ]
  },
  {
   "cell_type": "code",
   "execution_count": 13,
   "metadata": {},
   "outputs": [
    {
     "data": {
      "text/plain": [
       "{'': 0.058823529411764705,\n",
       " 'easier': 0.0,\n",
       " 'speaking': 0.17647058823529413,\n",
       " 'and': 0.0,\n",
       " 'you': 0.0,\n",
       " 'a': 0.058823529411764705,\n",
       " 'basics': 0.11764705882352941,\n",
       " 'wonderful': 0.0,\n",
       " 'know': 0.0,\n",
       " 'that': 0.0,\n",
       " 'is': 0.058823529411764705,\n",
       " 'languages': 0.0,\n",
       " 'gets': 0.0,\n",
       " 'learning': 0.0,\n",
       " 'english': 0.17647058823529413,\n",
       " 'beginners': 0.058823529411764705,\n",
       " 'in': 0.0,\n",
       " 'general': 0.0,\n",
       " 'for': 0.058823529411764705,\n",
       " 'about': 0.0,\n",
       " 'language': 0.058823529411764705,\n",
       " 'once': 0.0,\n",
       " 'the': 0.058823529411764705,\n",
       " 'help': 0.058823529411764705,\n",
       " 'understand': 0.058823529411764705,\n",
       " 'thing': 0.0}"
      ]
     },
     "execution_count": 13,
     "metadata": {},
     "output_type": "execute_result"
    }
   ],
   "source": [
    "\n",
    "tfBowA"
   ]
  },
  {
   "cell_type": "code",
   "execution_count": 14,
   "metadata": {},
   "outputs": [
    {
     "data": {
      "text/plain": [
       "{'': 0.047619047619047616,\n",
       " 'easier': 0.047619047619047616,\n",
       " 'speaking': 0.0,\n",
       " 'and': 0.047619047619047616,\n",
       " 'you': 0.047619047619047616,\n",
       " 'a': 0.047619047619047616,\n",
       " 'basics': 0.047619047619047616,\n",
       " 'wonderful': 0.047619047619047616,\n",
       " 'know': 0.047619047619047616,\n",
       " 'that': 0.047619047619047616,\n",
       " 'is': 0.047619047619047616,\n",
       " 'languages': 0.047619047619047616,\n",
       " 'gets': 0.047619047619047616,\n",
       " 'learning': 0.047619047619047616,\n",
       " 'english': 0.047619047619047616,\n",
       " 'beginners': 0.0,\n",
       " 'in': 0.047619047619047616,\n",
       " 'general': 0.047619047619047616,\n",
       " 'for': 0.047619047619047616,\n",
       " 'about': 0.047619047619047616,\n",
       " 'language': 0.0,\n",
       " 'once': 0.047619047619047616,\n",
       " 'the': 0.047619047619047616,\n",
       " 'help': 0.0,\n",
       " 'understand': 0.0,\n",
       " 'thing': 0.047619047619047616}"
      ]
     },
     "execution_count": 14,
     "metadata": {},
     "output_type": "execute_result"
    }
   ],
   "source": [
    "tfBowB"
   ]
  },
  {
   "cell_type": "code",
   "execution_count": 15,
   "metadata": {},
   "outputs": [],
   "source": [
    "def computeIDF(docList):\n",
    "    import math\n",
    "    idfDict = {}\n",
    "    N = len(docList)\n",
    "    \n",
    "    idfDict = dict.fromkeys(docList[0].keys(), 0)\n",
    "    for doc in docList:\n",
    "        for word, val in doc.items():\n",
    "            if val > 0:\n",
    "                idfDict[word] += 1\n",
    "    \n",
    "    for word, val in idfDict.items():\n",
    "        idfDict[word] = math.log10(N / float(val))\n",
    "        \n",
    "    return idfDict"
   ]
  },
  {
   "cell_type": "code",
   "execution_count": 16,
   "metadata": {},
   "outputs": [],
   "source": [
    "idfs = computeIDF([wordDictA, wordDictB])"
   ]
  },
  {
   "cell_type": "code",
   "execution_count": 17,
   "metadata": {},
   "outputs": [],
   "source": [
    "def computeTFIDF(tfBow, idfs):\n",
    "    tfidf = {}\n",
    "    for word, val in tfBow.items():\n",
    "        tfidf[word] = val*idfs[word]\n",
    "    return tfidf"
   ]
  },
  {
   "cell_type": "code",
   "execution_count": 18,
   "metadata": {},
   "outputs": [],
   "source": [
    "tfidfBowA = computeTFIDF(tfBowA, idfs)\n",
    "tfidfBowB = computeTFIDF(tfBowB, idfs)"
   ]
  },
  {
   "cell_type": "code",
   "execution_count": 19,
   "metadata": {},
   "outputs": [
    {
     "data": {
      "text/html": [
       "<div>\n",
       "<style scoped>\n",
       "    .dataframe tbody tr th:only-of-type {\n",
       "        vertical-align: middle;\n",
       "    }\n",
       "\n",
       "    .dataframe tbody tr th {\n",
       "        vertical-align: top;\n",
       "    }\n",
       "\n",
       "    .dataframe thead th {\n",
       "        text-align: right;\n",
       "    }\n",
       "</style>\n",
       "<table border=\"1\" class=\"dataframe\">\n",
       "  <thead>\n",
       "    <tr style=\"text-align: right;\">\n",
       "      <th></th>\n",
       "      <th></th>\n",
       "      <th>a</th>\n",
       "      <th>about</th>\n",
       "      <th>and</th>\n",
       "      <th>basics</th>\n",
       "      <th>beginners</th>\n",
       "      <th>easier</th>\n",
       "      <th>english</th>\n",
       "      <th>for</th>\n",
       "      <th>general</th>\n",
       "      <th>gets</th>\n",
       "      <th>help</th>\n",
       "      <th>in</th>\n",
       "      <th>is</th>\n",
       "      <th>know</th>\n",
       "      <th>language</th>\n",
       "      <th>languages</th>\n",
       "      <th>learning</th>\n",
       "      <th>once</th>\n",
       "      <th>speaking</th>\n",
       "      <th>that</th>\n",
       "      <th>the</th>\n",
       "      <th>thing</th>\n",
       "      <th>understand</th>\n",
       "      <th>wonderful</th>\n",
       "      <th>you</th>\n",
       "    </tr>\n",
       "  </thead>\n",
       "  <tbody>\n",
       "    <tr>\n",
       "      <th>0</th>\n",
       "      <td>0.0</td>\n",
       "      <td>0.0</td>\n",
       "      <td>0.000000</td>\n",
       "      <td>0.000000</td>\n",
       "      <td>0.0</td>\n",
       "      <td>0.017708</td>\n",
       "      <td>0.000000</td>\n",
       "      <td>0.0</td>\n",
       "      <td>0.0</td>\n",
       "      <td>0.000000</td>\n",
       "      <td>0.000000</td>\n",
       "      <td>0.017708</td>\n",
       "      <td>0.000000</td>\n",
       "      <td>0.0</td>\n",
       "      <td>0.000000</td>\n",
       "      <td>0.017708</td>\n",
       "      <td>0.000000</td>\n",
       "      <td>0.000000</td>\n",
       "      <td>0.000000</td>\n",
       "      <td>0.053123</td>\n",
       "      <td>0.000000</td>\n",
       "      <td>0.0</td>\n",
       "      <td>0.000000</td>\n",
       "      <td>0.017708</td>\n",
       "      <td>0.000000</td>\n",
       "      <td>0.000000</td>\n",
       "    </tr>\n",
       "    <tr>\n",
       "      <th>1</th>\n",
       "      <td>0.0</td>\n",
       "      <td>0.0</td>\n",
       "      <td>0.014335</td>\n",
       "      <td>0.014335</td>\n",
       "      <td>0.0</td>\n",
       "      <td>0.000000</td>\n",
       "      <td>0.014335</td>\n",
       "      <td>0.0</td>\n",
       "      <td>0.0</td>\n",
       "      <td>0.014335</td>\n",
       "      <td>0.014335</td>\n",
       "      <td>0.000000</td>\n",
       "      <td>0.014335</td>\n",
       "      <td>0.0</td>\n",
       "      <td>0.014335</td>\n",
       "      <td>0.000000</td>\n",
       "      <td>0.014335</td>\n",
       "      <td>0.014335</td>\n",
       "      <td>0.014335</td>\n",
       "      <td>0.000000</td>\n",
       "      <td>0.014335</td>\n",
       "      <td>0.0</td>\n",
       "      <td>0.014335</td>\n",
       "      <td>0.000000</td>\n",
       "      <td>0.014335</td>\n",
       "      <td>0.014335</td>\n",
       "    </tr>\n",
       "  </tbody>\n",
       "</table>\n",
       "</div>"
      ],
      "text/plain": [
       "          a     about       and  basics  \\\n",
       "0  0.0  0.0  0.000000  0.000000     0.0   \n",
       "1  0.0  0.0  0.014335  0.014335     0.0   \n",
       "\n",
       "   beginners    easier  english  for   general  \\\n",
       "0   0.017708  0.000000      0.0  0.0  0.000000   \n",
       "1   0.000000  0.014335      0.0  0.0  0.014335   \n",
       "\n",
       "       gets      help        in   is      know  \\\n",
       "0  0.000000  0.017708  0.000000  0.0  0.000000   \n",
       "1  0.014335  0.000000  0.014335  0.0  0.014335   \n",
       "\n",
       "   language  languages  learning      once  \\\n",
       "0  0.017708   0.000000  0.000000  0.000000   \n",
       "1  0.000000   0.014335  0.014335  0.014335   \n",
       "\n",
       "   speaking      that  the     thing  \\\n",
       "0  0.053123  0.000000  0.0  0.000000   \n",
       "1  0.000000  0.014335  0.0  0.014335   \n",
       "\n",
       "   understand  wonderful       you  \n",
       "0    0.017708   0.000000  0.000000  \n",
       "1    0.000000   0.014335  0.014335  "
      ]
     },
     "execution_count": 19,
     "metadata": {},
     "output_type": "execute_result"
    }
   ],
   "source": [
    "import pandas as pd\n",
    "pd.set_option('display.max_rows', 3)\n",
    "pd.set_option('display.max_columns', 33)\n",
    "pd.set_option('display.width', 50)\n",
    "pd.DataFrame([tfidfBowA, tfidfBowB])"
   ]
  },
  {
   "cell_type": "markdown",
   "metadata": {},
   "source": [
    "Encrypting and Decrypting the extracted keywords"
   ]
  },
  {
   "cell_type": "code",
   "execution_count": 20,
   "metadata": {},
   "outputs": [],
   "source": [
    "import pandas as pd\n",
    "keywords=pd.read_csv(\"keywords.txt\",sep='\\t',encoding='ANSI')"
   ]
  },
  {
   "cell_type": "code",
   "execution_count": 21,
   "metadata": {},
   "outputs": [],
   "source": [
    "import pyAesCrypt\n",
    "from os import stat, remove\n"
   ]
  },
  {
   "cell_type": "code",
   "execution_count": 24,
   "metadata": {},
   "outputs": [],
   "source": [
    "bufferSize = 64 * 1024\n",
    "key = \"1111 1110 1101 1100 1011 1010 1001 1000\"\n",
    "\n",
    "# encrypt\n",
    "with open(\"keywords.txt\", \"rb\") as fIn:\n",
    "    with open(\"keywords.txt.aes\", \"wb\") as fOut:\n",
    "        pyAesCrypt.encryptStream(fIn, fOut, key, bufferSize)\n",
    "\n",
    "# get encrypted file size\n",
    "encFileSize = stat(\"keywords.txt.aes\").st_size\n",
    "\n"
   ]
  },
  {
   "cell_type": "code",
   "execution_count": 25,
   "metadata": {},
   "outputs": [],
   "source": [
    "# decrypt\n",
    "with open(\"keywords.txt.aes\", \"rb\") as fIn:\n",
    "    try:\n",
    "        with open(\"keywords1.txt\", \"wb\") as fOut:\n",
    "            # decrypt file stream\n",
    "            pyAesCrypt.decryptStream(fIn, fOut, key, bufferSize, encFileSize)\n",
    "    except ValueError:\n",
    "        # remove output file on error\n",
    "        remove(\"keywords1.txt\")"
   ]
  },
  {
   "cell_type": "markdown",
   "metadata": {},
   "source": [
    "after the keywords are encrypted.. now we are encrypting the main file"
   ]
  },
  {
   "cell_type": "code",
   "execution_count": 27,
   "metadata": {},
   "outputs": [],
   "source": [
    "sentence=pd.read_csv(\"sentence.txt\",sep='\\t',encoding='ANSI')"
   ]
  },
  {
   "cell_type": "code",
   "execution_count": 28,
   "metadata": {},
   "outputs": [],
   "source": [
    "bufferSize = 64 * 1024\n",
    "key = \"1000 1001 1010 1011 1100 1101 1110 1111\"\n",
    "\n",
    "# encrypt\n",
    "with open(\"sentence.txt\", \"rb\") as fIn:\n",
    "    with open(\"sentence.txt.aes\", \"wb\") as fOut:\n",
    "        pyAesCrypt.encryptStream(fIn, fOut, key, bufferSize)\n",
    "\n",
    "# get encrypted file size\n",
    "encFileSize = stat(\"sentence.txt.aes\").st_size\n"
   ]
  },
  {
   "cell_type": "code",
   "execution_count": 29,
   "metadata": {},
   "outputs": [],
   "source": [
    "# decrypt\n",
    "with open(\"sentence.txt.aes\", \"rb\") as fIn:\n",
    "    try:\n",
    "        with open(\"sentence1.txt\", \"wb\") as fOut:\n",
    "            # decrypt file stream\n",
    "            pyAesCrypt.decryptStream(fIn, fOut, key, bufferSize, encFileSize)\n",
    "    except ValueError:\n",
    "        # remove output file on error\n",
    "        remove(\"sentence1.txt\")"
   ]
  },
  {
   "cell_type": "code",
   "execution_count": null,
   "metadata": {},
   "outputs": [],
   "source": []
  }
 ],
 "metadata": {
  "kernelspec": {
   "display_name": "Python 3",
   "language": "python",
   "name": "python3"
  },
  "language_info": {
   "codemirror_mode": {
    "name": "ipython",
    "version": 3
   },
   "file_extension": ".py",
   "mimetype": "text/x-python",
   "name": "python",
   "nbconvert_exporter": "python",
   "pygments_lexer": "ipython3",
   "version": "3.6.5"
  }
 },
 "nbformat": 4,
 "nbformat_minor": 2
}
