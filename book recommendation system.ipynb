{
 "cells": [
  {
   "cell_type": "code",
   "execution_count": 1,
   "metadata": {},
   "outputs": [],
   "source": [
    "using CSV\n",
    "using DataFrames\n",
    "using Statistics"
   ]
  },
  {
   "cell_type": "code",
   "execution_count": 2,
   "metadata": {},
   "outputs": [
    {
     "data": {
      "text/html": [
       "<table class=\"data-frame\"><thead><tr><th></th><th>User-ID</th><th>Location</th><th>Age</th></tr><tr><th></th><th>Int64</th><th>String</th><th>Int64?</th></tr></thead><tbody><p>278,858 rows × 3 columns</p><tr><th>1</th><td>1</td><td>nyc, new york, usa</td><td><em>missing</em></td></tr><tr><th>2</th><td>2</td><td>stockton, california, usa</td><td>18</td></tr><tr><th>3</th><td>3</td><td>moscow, yukon territory, russia</td><td><em>missing</em></td></tr><tr><th>4</th><td>4</td><td>porto, v.n.gaia, portugal</td><td>17</td></tr><tr><th>5</th><td>5</td><td>farnborough, hants, united kingdom</td><td><em>missing</em></td></tr><tr><th>6</th><td>6</td><td>santa monica, california, usa</td><td>61</td></tr><tr><th>7</th><td>7</td><td>washington, dc, usa</td><td><em>missing</em></td></tr><tr><th>8</th><td>8</td><td>timmins, ontario, canada</td><td><em>missing</em></td></tr><tr><th>9</th><td>9</td><td>germantown, tennessee, usa</td><td><em>missing</em></td></tr><tr><th>10</th><td>10</td><td>albacete, wisconsin, spain</td><td>26</td></tr><tr><th>11</th><td>11</td><td>melbourne, victoria, australia</td><td>14</td></tr><tr><th>12</th><td>12</td><td>fort bragg, california, usa</td><td><em>missing</em></td></tr><tr><th>13</th><td>13</td><td>barcelona, barcelona, spain</td><td>26</td></tr><tr><th>14</th><td>14</td><td>mediapolis, iowa, usa</td><td><em>missing</em></td></tr><tr><th>15</th><td>15</td><td>calgary, alberta, canada</td><td><em>missing</em></td></tr><tr><th>16</th><td>16</td><td>albuquerque, new mexico, usa</td><td><em>missing</em></td></tr><tr><th>17</th><td>17</td><td>chesapeake, virginia, usa</td><td><em>missing</em></td></tr><tr><th>18</th><td>18</td><td>rio de janeiro, rio de janeiro, brazil</td><td>25</td></tr><tr><th>19</th><td>19</td><td>weston, ,</td><td>14</td></tr><tr><th>20</th><td>20</td><td>langhorne, pennsylvania, usa</td><td>19</td></tr><tr><th>21</th><td>21</td><td>ferrol / spain, alabama, spain</td><td>46</td></tr><tr><th>22</th><td>22</td><td>erfurt, thueringen, germany</td><td><em>missing</em></td></tr><tr><th>23</th><td>23</td><td>philadelphia, pennsylvania, usa</td><td><em>missing</em></td></tr><tr><th>24</th><td>24</td><td>cologne, nrw, germany</td><td>19</td></tr><tr><th>25</th><td>25</td><td>oakland, california, usa</td><td>55</td></tr><tr><th>26</th><td>26</td><td>bellevue, washington, usa</td><td><em>missing</em></td></tr><tr><th>27</th><td>27</td><td>chicago, illinois, usa</td><td>32</td></tr><tr><th>28</th><td>28</td><td>freiburg, baden-wuerttemberg, germany</td><td>24</td></tr><tr><th>29</th><td>29</td><td>cuernavaca, alabama, mexico</td><td>19</td></tr><tr><th>30</th><td>30</td><td>anchorage, alaska, usa</td><td>24</td></tr><tr><th>&vellip;</th><td>&vellip;</td><td>&vellip;</td><td>&vellip;</td></tr></tbody></table>"
      ],
      "text/latex": [
       "\\begin{tabular}{r|ccc}\n",
       "\t& User-ID & Location & Age\\\\\n",
       "\t\\hline\n",
       "\t& Int64 & String & Int64?\\\\\n",
       "\t\\hline\n",
       "\t1 & 1 & nyc, new york, usa & \\emph{missing} \\\\\n",
       "\t2 & 2 & stockton, california, usa & 18 \\\\\n",
       "\t3 & 3 & moscow, yukon territory, russia & \\emph{missing} \\\\\n",
       "\t4 & 4 & porto, v.n.gaia, portugal & 17 \\\\\n",
       "\t5 & 5 & farnborough, hants, united kingdom & \\emph{missing} \\\\\n",
       "\t6 & 6 & santa monica, california, usa & 61 \\\\\n",
       "\t7 & 7 & washington, dc, usa & \\emph{missing} \\\\\n",
       "\t8 & 8 & timmins, ontario, canada & \\emph{missing} \\\\\n",
       "\t9 & 9 & germantown, tennessee, usa & \\emph{missing} \\\\\n",
       "\t10 & 10 & albacete, wisconsin, spain & 26 \\\\\n",
       "\t11 & 11 & melbourne, victoria, australia & 14 \\\\\n",
       "\t12 & 12 & fort bragg, california, usa & \\emph{missing} \\\\\n",
       "\t13 & 13 & barcelona, barcelona, spain & 26 \\\\\n",
       "\t14 & 14 & mediapolis, iowa, usa & \\emph{missing} \\\\\n",
       "\t15 & 15 & calgary, alberta, canada & \\emph{missing} \\\\\n",
       "\t16 & 16 & albuquerque, new mexico, usa & \\emph{missing} \\\\\n",
       "\t17 & 17 & chesapeake, virginia, usa & \\emph{missing} \\\\\n",
       "\t18 & 18 & rio de janeiro, rio de janeiro, brazil & 25 \\\\\n",
       "\t19 & 19 & weston, , & 14 \\\\\n",
       "\t20 & 20 & langhorne, pennsylvania, usa & 19 \\\\\n",
       "\t21 & 21 & ferrol / spain, alabama, spain & 46 \\\\\n",
       "\t22 & 22 & erfurt, thueringen, germany & \\emph{missing} \\\\\n",
       "\t23 & 23 & philadelphia, pennsylvania, usa & \\emph{missing} \\\\\n",
       "\t24 & 24 & cologne, nrw, germany & 19 \\\\\n",
       "\t25 & 25 & oakland, california, usa & 55 \\\\\n",
       "\t26 & 26 & bellevue, washington, usa & \\emph{missing} \\\\\n",
       "\t27 & 27 & chicago, illinois, usa & 32 \\\\\n",
       "\t28 & 28 & freiburg, baden-wuerttemberg, germany & 24 \\\\\n",
       "\t29 & 29 & cuernavaca, alabama, mexico & 19 \\\\\n",
       "\t30 & 30 & anchorage, alaska, usa & 24 \\\\\n",
       "\t$\\dots$ & $\\dots$ & $\\dots$ & $\\dots$ \\\\\n",
       "\\end{tabular}\n"
      ],
      "text/plain": [
       "278858×3 DataFrame\n",
       "│ Row    │ User-ID │ Location                              │ Age     │\n",
       "│        │ \u001b[90mInt64\u001b[39m   │ \u001b[90mString\u001b[39m                                │ \u001b[90mInt64?\u001b[39m  │\n",
       "├────────┼─────────┼───────────────────────────────────────┼─────────┤\n",
       "│ 1      │ 1       │ nyc, new york, usa                    │ \u001b[90mmissing\u001b[39m │\n",
       "│ 2      │ 2       │ stockton, california, usa             │ 18      │\n",
       "│ 3      │ 3       │ moscow, yukon territory, russia       │ \u001b[90mmissing\u001b[39m │\n",
       "│ 4      │ 4       │ porto, v.n.gaia, portugal             │ 17      │\n",
       "│ 5      │ 5       │ farnborough, hants, united kingdom    │ \u001b[90mmissing\u001b[39m │\n",
       "│ 6      │ 6       │ santa monica, california, usa         │ 61      │\n",
       "│ 7      │ 7       │ washington, dc, usa                   │ \u001b[90mmissing\u001b[39m │\n",
       "│ 8      │ 8       │ timmins, ontario, canada              │ \u001b[90mmissing\u001b[39m │\n",
       "│ 9      │ 9       │ germantown, tennessee, usa            │ \u001b[90mmissing\u001b[39m │\n",
       "│ 10     │ 10      │ albacete, wisconsin, spain            │ 26      │\n",
       "⋮\n",
       "│ 278848 │ 278848  │ k\\xf6ln, nordrhein-westfalen, germany │ \u001b[90mmissing\u001b[39m │\n",
       "│ 278849 │ 278849  │ georgetown, ontario, canada           │ 23      │\n",
       "│ 278850 │ 278850  │ sergnano, lombardia, italy            │ \u001b[90mmissing\u001b[39m │\n",
       "│ 278851 │ 278851  │ dallas, texas, usa                    │ 33      │\n",
       "│ 278852 │ 278852  │ brisbane, queensland, australia       │ 32      │\n",
       "│ 278853 │ 278853  │ stranraer, n/a, united kingdom        │ 17      │\n",
       "│ 278854 │ 278854  │ portland, oregon, usa                 │ \u001b[90mmissing\u001b[39m │\n",
       "│ 278855 │ 278855  │ tacoma, washington, united kingdom    │ 50      │\n",
       "│ 278856 │ 278856  │ brampton, ontario, canada             │ \u001b[90mmissing\u001b[39m │\n",
       "│ 278857 │ 278857  │ knoxville, tennessee, usa             │ \u001b[90mmissing\u001b[39m │\n",
       "│ 278858 │ 278858  │ dublin, n/a, ireland                  │ \u001b[90mmissing\u001b[39m │"
      ]
     },
     "execution_count": 2,
     "metadata": {},
     "output_type": "execute_result"
    }
   ],
   "source": [
    "users = CSV.read(\"BX-Users.csv\", header = 1, delim = ';', missingstring = \"NULL\", escapechar = '\\\\')"
   ]
  },
  {
   "cell_type": "code",
   "execution_count": 3,
   "metadata": {},
   "outputs": [
    {
     "data": {
      "text/html": [
       "<table class=\"data-frame\"><thead><tr><th></th><th>ISBN</th><th>Book-Title</th></tr><tr><th></th><th>String</th><th>String</th></tr></thead><tbody><p>271,379 rows × 8 columns (omitted printing of 6 columns)</p><tr><th>1</th><td>0195153448</td><td>Classical Mythology</td></tr><tr><th>2</th><td>0002005018</td><td>Clara Callan</td></tr><tr><th>3</th><td>0060973129</td><td>Decision in Normandy</td></tr><tr><th>4</th><td>0374157065</td><td>Flu: The Story of the Great Influenza Pandemic of 1918 and the Search for the Virus That Caused It</td></tr><tr><th>5</th><td>0393045218</td><td>The Mummies of Urumchi</td></tr><tr><th>6</th><td>0399135782</td><td>The Kitchen God's Wife</td></tr><tr><th>7</th><td>0425176428</td><td>What If?: The World's Foremost Military Historians Imagine What Might Have Been</td></tr><tr><th>8</th><td>0671870432</td><td>PLEADING GUILTY</td></tr><tr><th>9</th><td>0679425608</td><td>Under the Black Flag: The Romance and the Reality of Life Among the Pirates</td></tr><tr><th>10</th><td>074322678X</td><td>Where You'll Find Me: And Other Stories</td></tr><tr><th>11</th><td>0771074670</td><td>Nights Below Station Street</td></tr><tr><th>12</th><td>080652121X</td><td>Hitler's Secret Bankers: The Myth of Swiss Neutrality During the Holocaust</td></tr><tr><th>13</th><td>0887841740</td><td>The Middle Stories</td></tr><tr><th>14</th><td>1552041778</td><td>Jane Doe</td></tr><tr><th>15</th><td>1558746218</td><td>A Second Chicken Soup for the Woman's Soul (Chicken Soup for the Soul Series)</td></tr><tr><th>16</th><td>1567407781</td><td>The Witchfinder (Amos Walker Mystery Series)</td></tr><tr><th>17</th><td>1575663937</td><td>More Cunning Than Man: A Social History of Rats and Man</td></tr><tr><th>18</th><td>1881320189</td><td>Goodbye to the Buttermilk Sky</td></tr><tr><th>19</th><td>0440234743</td><td>The Testament</td></tr><tr><th>20</th><td>0452264464</td><td>Beloved (Plume Contemporary Fiction)</td></tr><tr><th>21</th><td>0609804618</td><td>Our Dumb Century: The Onion Presents 100 Years of Headlines from America's Finest News Source</td></tr><tr><th>22</th><td>1841721522</td><td>New Vegetarian: Bold and Beautiful Recipes for Every Occasion</td></tr><tr><th>23</th><td>1879384493</td><td>If I'd Known Then What I Know Now: Why Not Learn from the Mistakes of Others? : You Can't Afford to Make Them All Yourself</td></tr><tr><th>24</th><td>0061076031</td><td>Mary-Kate &amp;amp; Ashley Switching Goals (Mary-Kate and Ashley Starring in)</td></tr><tr><th>25</th><td>0439095026</td><td>Tell Me This Isn't Happening</td></tr><tr><th>26</th><td>0689821166</td><td>Flood : Mississippi 1927</td></tr><tr><th>27</th><td>0971880107</td><td>Wild Animus</td></tr><tr><th>28</th><td>0345402871</td><td>Airframe</td></tr><tr><th>29</th><td>0345417623</td><td>Timeline</td></tr><tr><th>30</th><td>0684823802</td><td>OUT OF THE SILENT PLANET</td></tr><tr><th>&vellip;</th><td>&vellip;</td><td>&vellip;</td></tr></tbody></table>"
      ],
      "text/latex": [
       "\\begin{tabular}{r|ccc}\n",
       "\t& ISBN & Book-Title & \\\\\n",
       "\t\\hline\n",
       "\t& String & String & \\\\\n",
       "\t\\hline\n",
       "\t1 & 0195153448 & Classical Mythology & $\\dots$ \\\\\n",
       "\t2 & 0002005018 & Clara Callan & $\\dots$ \\\\\n",
       "\t3 & 0060973129 & Decision in Normandy & $\\dots$ \\\\\n",
       "\t4 & 0374157065 & Flu: The Story of the Great Influenza Pandemic of 1918 and the Search for the Virus That Caused It & $\\dots$ \\\\\n",
       "\t5 & 0393045218 & The Mummies of Urumchi & $\\dots$ \\\\\n",
       "\t6 & 0399135782 & The Kitchen God's Wife & $\\dots$ \\\\\n",
       "\t7 & 0425176428 & What If?: The World's Foremost Military Historians Imagine What Might Have Been & $\\dots$ \\\\\n",
       "\t8 & 0671870432 & PLEADING GUILTY & $\\dots$ \\\\\n",
       "\t9 & 0679425608 & Under the Black Flag: The Romance and the Reality of Life Among the Pirates & $\\dots$ \\\\\n",
       "\t10 & 074322678X & Where You'll Find Me: And Other Stories & $\\dots$ \\\\\n",
       "\t11 & 0771074670 & Nights Below Station Street & $\\dots$ \\\\\n",
       "\t12 & 080652121X & Hitler's Secret Bankers: The Myth of Swiss Neutrality During the Holocaust & $\\dots$ \\\\\n",
       "\t13 & 0887841740 & The Middle Stories & $\\dots$ \\\\\n",
       "\t14 & 1552041778 & Jane Doe & $\\dots$ \\\\\n",
       "\t15 & 1558746218 & A Second Chicken Soup for the Woman's Soul (Chicken Soup for the Soul Series) & $\\dots$ \\\\\n",
       "\t16 & 1567407781 & The Witchfinder (Amos Walker Mystery Series) & $\\dots$ \\\\\n",
       "\t17 & 1575663937 & More Cunning Than Man: A Social History of Rats and Man & $\\dots$ \\\\\n",
       "\t18 & 1881320189 & Goodbye to the Buttermilk Sky & $\\dots$ \\\\\n",
       "\t19 & 0440234743 & The Testament & $\\dots$ \\\\\n",
       "\t20 & 0452264464 & Beloved (Plume Contemporary Fiction) & $\\dots$ \\\\\n",
       "\t21 & 0609804618 & Our Dumb Century: The Onion Presents 100 Years of Headlines from America's Finest News Source & $\\dots$ \\\\\n",
       "\t22 & 1841721522 & New Vegetarian: Bold and Beautiful Recipes for Every Occasion & $\\dots$ \\\\\n",
       "\t23 & 1879384493 & If I'd Known Then What I Know Now: Why Not Learn from the Mistakes of Others? : You Can't Afford to Make Them All Yourself & $\\dots$ \\\\\n",
       "\t24 & 0061076031 & Mary-Kate \\&amp; Ashley Switching Goals (Mary-Kate and Ashley Starring in) & $\\dots$ \\\\\n",
       "\t25 & 0439095026 & Tell Me This Isn't Happening & $\\dots$ \\\\\n",
       "\t26 & 0689821166 & Flood : Mississippi 1927 & $\\dots$ \\\\\n",
       "\t27 & 0971880107 & Wild Animus & $\\dots$ \\\\\n",
       "\t28 & 0345402871 & Airframe & $\\dots$ \\\\\n",
       "\t29 & 0345417623 & Timeline & $\\dots$ \\\\\n",
       "\t30 & 0684823802 & OUT OF THE SILENT PLANET & $\\dots$ \\\\\n",
       "\t$\\dots$ & $\\dots$ & $\\dots$ &  \\\\\n",
       "\\end{tabular}\n"
      ],
      "text/plain": [
       "271379×8 DataFrame. Omitted printing of 7 columns\n",
       "│ Row    │ ISBN       │\n",
       "│        │ \u001b[90mString\u001b[39m     │\n",
       "├────────┼────────────┤\n",
       "│ 1      │ 0195153448 │\n",
       "│ 2      │ 0002005018 │\n",
       "│ 3      │ 0060973129 │\n",
       "│ 4      │ 0374157065 │\n",
       "│ 5      │ 0393045218 │\n",
       "│ 6      │ 0399135782 │\n",
       "│ 7      │ 0425176428 │\n",
       "│ 8      │ 0671870432 │\n",
       "│ 9      │ 0679425608 │\n",
       "│ 10     │ 074322678X │\n",
       "⋮\n",
       "│ 271369 │ 0520242335 │\n",
       "│ 271370 │ 0762412119 │\n",
       "│ 271371 │ 1582380805 │\n",
       "│ 271372 │ 1845170423 │\n",
       "│ 271373 │ 014002803X │\n",
       "│ 271374 │ 0449906736 │\n",
       "│ 271375 │ 0440400988 │\n",
       "│ 271376 │ 0525447644 │\n",
       "│ 271377 │ 006008667X │\n",
       "│ 271378 │ 0192126040 │\n",
       "│ 271379 │ 0767409752 │"
      ]
     },
     "execution_count": 3,
     "metadata": {},
     "output_type": "execute_result"
    }
   ],
   "source": [
    "books = CSV.read(\"BX-Books.csv\", header = 1, delim = ';', missingstring = \"NULL\", escapechar = '\\\\')"
   ]
  },
  {
   "cell_type": "code",
   "execution_count": 4,
   "metadata": {},
   "outputs": [
    {
     "data": {
      "text/html": [
       "<table class=\"data-frame\"><thead><tr><th></th><th>User-ID</th><th>ISBN</th><th>Book-Rating</th></tr><tr><th></th><th>Int64</th><th>String</th><th>Int64</th></tr></thead><tbody><p>1,149,780 rows × 3 columns</p><tr><th>1</th><td>276725</td><td>034545104X</td><td>0</td></tr><tr><th>2</th><td>276726</td><td>0155061224</td><td>5</td></tr><tr><th>3</th><td>276727</td><td>0446520802</td><td>0</td></tr><tr><th>4</th><td>276729</td><td>052165615X</td><td>3</td></tr><tr><th>5</th><td>276729</td><td>0521795028</td><td>6</td></tr><tr><th>6</th><td>276733</td><td>2080674722</td><td>0</td></tr><tr><th>7</th><td>276736</td><td>3257224281</td><td>8</td></tr><tr><th>8</th><td>276737</td><td>0600570967</td><td>6</td></tr><tr><th>9</th><td>276744</td><td>038550120X</td><td>7</td></tr><tr><th>10</th><td>276745</td><td>342310538</td><td>10</td></tr><tr><th>11</th><td>276746</td><td>0425115801</td><td>0</td></tr><tr><th>12</th><td>276746</td><td>0449006522</td><td>0</td></tr><tr><th>13</th><td>276746</td><td>0553561618</td><td>0</td></tr><tr><th>14</th><td>276746</td><td>055356451X</td><td>0</td></tr><tr><th>15</th><td>276746</td><td>0786013990</td><td>0</td></tr><tr><th>16</th><td>276746</td><td>0786014512</td><td>0</td></tr><tr><th>17</th><td>276747</td><td>0060517794</td><td>9</td></tr><tr><th>18</th><td>276747</td><td>0451192001</td><td>0</td></tr><tr><th>19</th><td>276747</td><td>0609801279</td><td>0</td></tr><tr><th>20</th><td>276747</td><td>0671537458</td><td>9</td></tr><tr><th>21</th><td>276747</td><td>0679776818</td><td>8</td></tr><tr><th>22</th><td>276747</td><td>0943066433</td><td>7</td></tr><tr><th>23</th><td>276747</td><td>1570231028</td><td>0</td></tr><tr><th>24</th><td>276747</td><td>1885408226</td><td>7</td></tr><tr><th>25</th><td>276748</td><td>0747558167</td><td>6</td></tr><tr><th>26</th><td>276748</td><td>3442437407</td><td>0</td></tr><tr><th>27</th><td>276751</td><td>033390804X</td><td>0</td></tr><tr><th>28</th><td>276751</td><td>3596218098</td><td>8</td></tr><tr><th>29</th><td>276754</td><td>0684867621</td><td>8</td></tr><tr><th>30</th><td>276755</td><td>0451166892</td><td>5</td></tr><tr><th>&vellip;</th><td>&vellip;</td><td>&vellip;</td><td>&vellip;</td></tr></tbody></table>"
      ],
      "text/latex": [
       "\\begin{tabular}{r|ccc}\n",
       "\t& User-ID & ISBN & Book-Rating\\\\\n",
       "\t\\hline\n",
       "\t& Int64 & String & Int64\\\\\n",
       "\t\\hline\n",
       "\t1 & 276725 & 034545104X & 0 \\\\\n",
       "\t2 & 276726 & 0155061224 & 5 \\\\\n",
       "\t3 & 276727 & 0446520802 & 0 \\\\\n",
       "\t4 & 276729 & 052165615X & 3 \\\\\n",
       "\t5 & 276729 & 0521795028 & 6 \\\\\n",
       "\t6 & 276733 & 2080674722 & 0 \\\\\n",
       "\t7 & 276736 & 3257224281 & 8 \\\\\n",
       "\t8 & 276737 & 0600570967 & 6 \\\\\n",
       "\t9 & 276744 & 038550120X & 7 \\\\\n",
       "\t10 & 276745 & 342310538 & 10 \\\\\n",
       "\t11 & 276746 & 0425115801 & 0 \\\\\n",
       "\t12 & 276746 & 0449006522 & 0 \\\\\n",
       "\t13 & 276746 & 0553561618 & 0 \\\\\n",
       "\t14 & 276746 & 055356451X & 0 \\\\\n",
       "\t15 & 276746 & 0786013990 & 0 \\\\\n",
       "\t16 & 276746 & 0786014512 & 0 \\\\\n",
       "\t17 & 276747 & 0060517794 & 9 \\\\\n",
       "\t18 & 276747 & 0451192001 & 0 \\\\\n",
       "\t19 & 276747 & 0609801279 & 0 \\\\\n",
       "\t20 & 276747 & 0671537458 & 9 \\\\\n",
       "\t21 & 276747 & 0679776818 & 8 \\\\\n",
       "\t22 & 276747 & 0943066433 & 7 \\\\\n",
       "\t23 & 276747 & 1570231028 & 0 \\\\\n",
       "\t24 & 276747 & 1885408226 & 7 \\\\\n",
       "\t25 & 276748 & 0747558167 & 6 \\\\\n",
       "\t26 & 276748 & 3442437407 & 0 \\\\\n",
       "\t27 & 276751 & 033390804X & 0 \\\\\n",
       "\t28 & 276751 & 3596218098 & 8 \\\\\n",
       "\t29 & 276754 & 0684867621 & 8 \\\\\n",
       "\t30 & 276755 & 0451166892 & 5 \\\\\n",
       "\t$\\dots$ & $\\dots$ & $\\dots$ & $\\dots$ \\\\\n",
       "\\end{tabular}\n"
      ],
      "text/plain": [
       "1149780×3 DataFrame\n",
       "│ Row     │ User-ID │ ISBN        │ Book-Rating │\n",
       "│         │ \u001b[90mInt64\u001b[39m   │ \u001b[90mString\u001b[39m      │ \u001b[90mInt64\u001b[39m       │\n",
       "├─────────┼─────────┼─────────────┼─────────────┤\n",
       "│ 1       │ 276725  │ 034545104X  │ 0           │\n",
       "│ 2       │ 276726  │ 0155061224  │ 5           │\n",
       "│ 3       │ 276727  │ 0446520802  │ 0           │\n",
       "│ 4       │ 276729  │ 052165615X  │ 3           │\n",
       "│ 5       │ 276729  │ 0521795028  │ 6           │\n",
       "│ 6       │ 276733  │ 2080674722  │ 0           │\n",
       "│ 7       │ 276736  │ 3257224281  │ 8           │\n",
       "│ 8       │ 276737  │ 0600570967  │ 6           │\n",
       "│ 9       │ 276744  │ 038550120X  │ 7           │\n",
       "│ 10      │ 276745  │ 342310538   │ 10          │\n",
       "⋮\n",
       "│ 1149770 │ 276704  │ 059032120X  │ 0           │\n",
       "│ 1149771 │ 276704  │ 0679752714  │ 0           │\n",
       "│ 1149772 │ 276704  │ 0743211383  │ 7           │\n",
       "│ 1149773 │ 276704  │ 080410526X  │ 0           │\n",
       "│ 1149774 │ 276704  │ 0806917695  │ 5           │\n",
       "│ 1149775 │ 276704  │ 0876044011  │ 0           │\n",
       "│ 1149776 │ 276704  │ 1563526298  │ 9           │\n",
       "│ 1149777 │ 276706  │ 0679447156  │ 0           │\n",
       "│ 1149778 │ 276709  │ 0515107662  │ 10          │\n",
       "│ 1149779 │ 276721  │ 0590442449  │ 10          │\n",
       "│ 1149780 │ 276723  │ 05162443314 │ 8           │"
      ]
     },
     "execution_count": 4,
     "metadata": {},
     "output_type": "execute_result"
    }
   ],
   "source": [
    "books_ratings = CSV.read(\"BX-Book-Ratings.csv\", header = 1, delim = ';', missingstring = \"NULL\", escapechar = '\\\\')"
   ]
  },
  {
   "cell_type": "code",
   "execution_count": 5,
   "metadata": {},
   "outputs": [
    {
     "data": {
      "text/plain": [
       "3-element Array{String,1}:\n",
       " \"User-ID\"\n",
       " \"Location\"\n",
       " \"Age\""
      ]
     },
     "execution_count": 5,
     "metadata": {},
     "output_type": "execute_result"
    }
   ],
   "source": [
    "names(users)"
   ]
  },
  {
   "cell_type": "code",
   "execution_count": 6,
   "metadata": {},
   "outputs": [
    {
     "data": {
      "text/plain": [
       "34.75143370454978"
      ]
     },
     "execution_count": 6,
     "metadata": {},
     "output_type": "execute_result"
    }
   ],
   "source": [
    "mean(skipmissing(users[:Age]))"
   ]
  },
  {
   "cell_type": "code",
   "execution_count": 7,
   "metadata": {},
   "outputs": [
    {
     "data": {
      "text/plain": [
       "278858-element Array{Real,1}:\n",
       " 34.75143370454978\n",
       " 18\n",
       " 34.75143370454978\n",
       " 17\n",
       " 34.75143370454978\n",
       " 61\n",
       " 34.75143370454978\n",
       " 34.75143370454978\n",
       " 34.75143370454978\n",
       " 26\n",
       " 14\n",
       " 34.75143370454978\n",
       " 26\n",
       "  ⋮\n",
       " 34.75143370454978\n",
       " 34.75143370454978\n",
       " 23\n",
       " 34.75143370454978\n",
       " 33\n",
       " 32\n",
       " 17\n",
       " 34.75143370454978\n",
       " 50\n",
       " 34.75143370454978\n",
       " 34.75143370454978\n",
       " 34.75143370454978"
      ]
     },
     "execution_count": 7,
     "metadata": {},
     "output_type": "execute_result"
    }
   ],
   "source": [
    "users[:Age] = coalesce.(users[:Age], mean(skipmissing(users[:Age])))"
   ]
  },
  {
   "cell_type": "code",
   "execution_count": 8,
   "metadata": {},
   "outputs": [
    {
     "data": {
      "text/html": [
       "<table class=\"data-frame\"><thead><tr><th></th><th>User-ID</th><th>Location</th><th>Age</th></tr><tr><th></th><th>Int64</th><th>String</th><th>Real</th></tr></thead><tbody><p>278,485 rows × 3 columns</p><tr><th>1</th><td>1</td><td>nyc, new york, usa</td><td>34.7514</td></tr><tr><th>2</th><td>2</td><td>stockton, california, usa</td><td>18</td></tr><tr><th>3</th><td>3</td><td>moscow, yukon territory, russia</td><td>34.7514</td></tr><tr><th>4</th><td>4</td><td>porto, v.n.gaia, portugal</td><td>17</td></tr><tr><th>5</th><td>5</td><td>farnborough, hants, united kingdom</td><td>34.7514</td></tr><tr><th>6</th><td>6</td><td>santa monica, california, usa</td><td>61</td></tr><tr><th>7</th><td>7</td><td>washington, dc, usa</td><td>34.7514</td></tr><tr><th>8</th><td>8</td><td>timmins, ontario, canada</td><td>34.7514</td></tr><tr><th>9</th><td>9</td><td>germantown, tennessee, usa</td><td>34.7514</td></tr><tr><th>10</th><td>10</td><td>albacete, wisconsin, spain</td><td>26</td></tr><tr><th>11</th><td>11</td><td>melbourne, victoria, australia</td><td>14</td></tr><tr><th>12</th><td>12</td><td>fort bragg, california, usa</td><td>34.7514</td></tr><tr><th>13</th><td>13</td><td>barcelona, barcelona, spain</td><td>26</td></tr><tr><th>14</th><td>14</td><td>mediapolis, iowa, usa</td><td>34.7514</td></tr><tr><th>15</th><td>15</td><td>calgary, alberta, canada</td><td>34.7514</td></tr><tr><th>16</th><td>16</td><td>albuquerque, new mexico, usa</td><td>34.7514</td></tr><tr><th>17</th><td>17</td><td>chesapeake, virginia, usa</td><td>34.7514</td></tr><tr><th>18</th><td>18</td><td>rio de janeiro, rio de janeiro, brazil</td><td>25</td></tr><tr><th>19</th><td>19</td><td>weston, ,</td><td>14</td></tr><tr><th>20</th><td>20</td><td>langhorne, pennsylvania, usa</td><td>19</td></tr><tr><th>21</th><td>21</td><td>ferrol / spain, alabama, spain</td><td>46</td></tr><tr><th>22</th><td>22</td><td>erfurt, thueringen, germany</td><td>34.7514</td></tr><tr><th>23</th><td>23</td><td>philadelphia, pennsylvania, usa</td><td>34.7514</td></tr><tr><th>24</th><td>24</td><td>cologne, nrw, germany</td><td>19</td></tr><tr><th>25</th><td>25</td><td>oakland, california, usa</td><td>55</td></tr><tr><th>26</th><td>26</td><td>bellevue, washington, usa</td><td>34.7514</td></tr><tr><th>27</th><td>27</td><td>chicago, illinois, usa</td><td>32</td></tr><tr><th>28</th><td>28</td><td>freiburg, baden-wuerttemberg, germany</td><td>24</td></tr><tr><th>29</th><td>29</td><td>cuernavaca, alabama, mexico</td><td>19</td></tr><tr><th>30</th><td>30</td><td>anchorage, alaska, usa</td><td>24</td></tr><tr><th>&vellip;</th><td>&vellip;</td><td>&vellip;</td><td>&vellip;</td></tr></tbody></table>"
      ],
      "text/latex": [
       "\\begin{tabular}{r|ccc}\n",
       "\t& User-ID & Location & Age\\\\\n",
       "\t\\hline\n",
       "\t& Int64 & String & Real\\\\\n",
       "\t\\hline\n",
       "\t1 & 1 & nyc, new york, usa & 34.7514 \\\\\n",
       "\t2 & 2 & stockton, california, usa & 18 \\\\\n",
       "\t3 & 3 & moscow, yukon territory, russia & 34.7514 \\\\\n",
       "\t4 & 4 & porto, v.n.gaia, portugal & 17 \\\\\n",
       "\t5 & 5 & farnborough, hants, united kingdom & 34.7514 \\\\\n",
       "\t6 & 6 & santa monica, california, usa & 61 \\\\\n",
       "\t7 & 7 & washington, dc, usa & 34.7514 \\\\\n",
       "\t8 & 8 & timmins, ontario, canada & 34.7514 \\\\\n",
       "\t9 & 9 & germantown, tennessee, usa & 34.7514 \\\\\n",
       "\t10 & 10 & albacete, wisconsin, spain & 26 \\\\\n",
       "\t11 & 11 & melbourne, victoria, australia & 14 \\\\\n",
       "\t12 & 12 & fort bragg, california, usa & 34.7514 \\\\\n",
       "\t13 & 13 & barcelona, barcelona, spain & 26 \\\\\n",
       "\t14 & 14 & mediapolis, iowa, usa & 34.7514 \\\\\n",
       "\t15 & 15 & calgary, alberta, canada & 34.7514 \\\\\n",
       "\t16 & 16 & albuquerque, new mexico, usa & 34.7514 \\\\\n",
       "\t17 & 17 & chesapeake, virginia, usa & 34.7514 \\\\\n",
       "\t18 & 18 & rio de janeiro, rio de janeiro, brazil & 25 \\\\\n",
       "\t19 & 19 & weston, , & 14 \\\\\n",
       "\t20 & 20 & langhorne, pennsylvania, usa & 19 \\\\\n",
       "\t21 & 21 & ferrol / spain, alabama, spain & 46 \\\\\n",
       "\t22 & 22 & erfurt, thueringen, germany & 34.7514 \\\\\n",
       "\t23 & 23 & philadelphia, pennsylvania, usa & 34.7514 \\\\\n",
       "\t24 & 24 & cologne, nrw, germany & 19 \\\\\n",
       "\t25 & 25 & oakland, california, usa & 55 \\\\\n",
       "\t26 & 26 & bellevue, washington, usa & 34.7514 \\\\\n",
       "\t27 & 27 & chicago, illinois, usa & 32 \\\\\n",
       "\t28 & 28 & freiburg, baden-wuerttemberg, germany & 24 \\\\\n",
       "\t29 & 29 & cuernavaca, alabama, mexico & 19 \\\\\n",
       "\t30 & 30 & anchorage, alaska, usa & 24 \\\\\n",
       "\t$\\dots$ & $\\dots$ & $\\dots$ & $\\dots$ \\\\\n",
       "\\end{tabular}\n"
      ],
      "text/plain": [
       "278485×3 DataFrame\n",
       "│ Row    │ User-ID │ Location                              │ Age     │\n",
       "│        │ \u001b[90mInt64\u001b[39m   │ \u001b[90mString\u001b[39m                                │ \u001b[90mReal\u001b[39m    │\n",
       "├────────┼─────────┼───────────────────────────────────────┼─────────┤\n",
       "│ 1      │ 1       │ nyc, new york, usa                    │ 34.7514 │\n",
       "│ 2      │ 2       │ stockton, california, usa             │ 18      │\n",
       "│ 3      │ 3       │ moscow, yukon territory, russia       │ 34.7514 │\n",
       "│ 4      │ 4       │ porto, v.n.gaia, portugal             │ 17      │\n",
       "│ 5      │ 5       │ farnborough, hants, united kingdom    │ 34.7514 │\n",
       "│ 6      │ 6       │ santa monica, california, usa         │ 61      │\n",
       "│ 7      │ 7       │ washington, dc, usa                   │ 34.7514 │\n",
       "│ 8      │ 8       │ timmins, ontario, canada              │ 34.7514 │\n",
       "│ 9      │ 9       │ germantown, tennessee, usa            │ 34.7514 │\n",
       "│ 10     │ 10      │ albacete, wisconsin, spain            │ 26      │\n",
       "⋮\n",
       "│ 278475 │ 278848  │ k\\xf6ln, nordrhein-westfalen, germany │ 34.7514 │\n",
       "│ 278476 │ 278849  │ georgetown, ontario, canada           │ 23      │\n",
       "│ 278477 │ 278850  │ sergnano, lombardia, italy            │ 34.7514 │\n",
       "│ 278478 │ 278851  │ dallas, texas, usa                    │ 33      │\n",
       "│ 278479 │ 278852  │ brisbane, queensland, australia       │ 32      │\n",
       "│ 278480 │ 278853  │ stranraer, n/a, united kingdom        │ 17      │\n",
       "│ 278481 │ 278854  │ portland, oregon, usa                 │ 34.7514 │\n",
       "│ 278482 │ 278855  │ tacoma, washington, united kingdom    │ 50      │\n",
       "│ 278483 │ 278856  │ brampton, ontario, canada             │ 34.7514 │\n",
       "│ 278484 │ 278857  │ knoxville, tennessee, usa             │ 34.7514 │\n",
       "│ 278485 │ 278858  │ dublin, n/a, ireland                  │ 34.7514 │"
      ]
     },
     "execution_count": 8,
     "metadata": {},
     "output_type": "execute_result"
    }
   ],
   "source": [
    "users = users[users[:Age] .< 100, :]"
   ]
  },
  {
   "cell_type": "code",
   "execution_count": 10,
   "metadata": {},
   "outputs": [
    {
     "data": {
      "text/plain": [
       "8-element Array{String,1}:\n",
       " \"ISBN\"\n",
       " \"Book-Title\"\n",
       " \"Book-Author\"\n",
       " \"Year-Of-Publication\"\n",
       " \"Publisher\"\n",
       " \"Image-URL-S\"\n",
       " \"Image-URL-M\"\n",
       " \"Image-URL-L\""
      ]
     },
     "execution_count": 10,
     "metadata": {},
     "output_type": "execute_result"
    }
   ],
   "source": [
    "names(books)"
   ]
  },
  {
   "cell_type": "code",
   "execution_count": 11,
   "metadata": {},
   "outputs": [
    {
     "data": {
      "text/plain": [
       "3-element Array{String,1}:\n",
       " \"User-ID\"\n",
       " \"ISBN\"\n",
       " \"Book-Rating\""
      ]
     },
     "execution_count": 11,
     "metadata": {},
     "output_type": "execute_result"
    }
   ],
   "source": [
    "names(books_ratings)"
   ]
  },
  {
   "cell_type": "code",
   "execution_count": 12,
   "metadata": {},
   "outputs": [
    {
     "data": {
      "text/html": [
       "<table class=\"data-frame\"><thead><tr><th></th><th>User-ID</th><th>ISBN</th><th>Book-Rating</th><th>Book-Title</th></tr><tr><th></th><th>Int64</th><th>String</th><th>Int64</th><th>String</th></tr></thead><tbody><p>1,031,175 rows × 10 columns (omitted printing of 6 columns)</p><tr><th>1</th><td>276725</td><td>034545104X</td><td>0</td><td>Flesh Tones: A Novel</td></tr><tr><th>2</th><td>276726</td><td>0155061224</td><td>5</td><td>Rites of Passage</td></tr><tr><th>3</th><td>276727</td><td>0446520802</td><td>0</td><td>The Notebook</td></tr><tr><th>4</th><td>276729</td><td>052165615X</td><td>3</td><td>Help!: Level 1</td></tr><tr><th>5</th><td>276729</td><td>0521795028</td><td>6</td><td>The Amsterdam Connection : Level 4 (Cambridge English Readers)</td></tr><tr><th>6</th><td>276733</td><td>2080674722</td><td>0</td><td>Les Particules Elementaires</td></tr><tr><th>7</th><td>276744</td><td>038550120X</td><td>7</td><td>A Painted House</td></tr><tr><th>8</th><td>276746</td><td>0425115801</td><td>0</td><td>Lightning</td></tr><tr><th>9</th><td>276746</td><td>0449006522</td><td>0</td><td>Manhattan Hunt Club</td></tr><tr><th>10</th><td>276746</td><td>0553561618</td><td>0</td><td>Dark Paradise</td></tr><tr><th>11</th><td>276746</td><td>055356451X</td><td>0</td><td>Night Sins</td></tr><tr><th>12</th><td>276746</td><td>0786013990</td><td>0</td><td>At the Edge</td></tr><tr><th>13</th><td>276746</td><td>0786014512</td><td>0</td><td>Make Them Cry</td></tr><tr><th>14</th><td>276747</td><td>0060517794</td><td>9</td><td>Little Altars Everywhere</td></tr><tr><th>15</th><td>276747</td><td>0451192001</td><td>0</td><td>How Stella Got Her Groove Back</td></tr><tr><th>16</th><td>276747</td><td>0609801279</td><td>0</td><td>The Law of Love</td></tr><tr><th>17</th><td>276747</td><td>0671537458</td><td>9</td><td>Waiting to Exhale</td></tr><tr><th>18</th><td>276747</td><td>0679776818</td><td>8</td><td>Birdsong: A Novel of Love and War</td></tr><tr><th>19</th><td>276747</td><td>0943066433</td><td>7</td><td>How to Deal With Difficult People</td></tr><tr><th>20</th><td>276747</td><td>1570231028</td><td>0</td><td>Change Your Job, Change Your Life: High Impact Strategies for Finding Great Jobs in the Decade Ahead (Change Your Job Change Your Life, 7th ed)</td></tr><tr><th>21</th><td>276747</td><td>1885408226</td><td>7</td><td>The Golden Rule of Schmoozing</td></tr><tr><th>22</th><td>276748</td><td>0747558167</td><td>6</td><td>Apricots on the Nile: A Memoir with Recipes</td></tr><tr><th>23</th><td>276751</td><td>3596218098</td><td>8</td><td>Reise nach Ixtlan. Die Lehre des Don Juan.</td></tr><tr><th>24</th><td>276754</td><td>0684867621</td><td>8</td><td>The Girl Who Loved Tom Gordon : A Novel</td></tr><tr><th>25</th><td>276755</td><td>0451166892</td><td>5</td><td>The Pillars of the Earth</td></tr><tr><th>26</th><td>276762</td><td>034544003X</td><td>0</td><td>Southampton Row (Charlotte &amp;amp; Thomas Pitt Novels (Hardcover))</td></tr><tr><th>27</th><td>276762</td><td>0380000059</td><td>0</td><td>CLOUT</td></tr><tr><th>28</th><td>276762</td><td>0380711524</td><td>5</td><td>See Jane Run</td></tr><tr><th>29</th><td>276762</td><td>0451167317</td><td>0</td><td>The Dark Half</td></tr><tr><th>30</th><td>276762</td><td>0451454952</td><td>0</td><td>House of the Sun (Shadowrun)</td></tr><tr><th>&vellip;</th><td>&vellip;</td><td>&vellip;</td><td>&vellip;</td><td>&vellip;</td></tr></tbody></table>"
      ],
      "text/latex": [
       "\\begin{tabular}{r|ccccc}\n",
       "\t& User-ID & ISBN & Book-Rating & Book-Title & \\\\\n",
       "\t\\hline\n",
       "\t& Int64 & String & Int64 & String & \\\\\n",
       "\t\\hline\n",
       "\t1 & 276725 & 034545104X & 0 & Flesh Tones: A Novel & $\\dots$ \\\\\n",
       "\t2 & 276726 & 0155061224 & 5 & Rites of Passage & $\\dots$ \\\\\n",
       "\t3 & 276727 & 0446520802 & 0 & The Notebook & $\\dots$ \\\\\n",
       "\t4 & 276729 & 052165615X & 3 & Help!: Level 1 & $\\dots$ \\\\\n",
       "\t5 & 276729 & 0521795028 & 6 & The Amsterdam Connection : Level 4 (Cambridge English Readers) & $\\dots$ \\\\\n",
       "\t6 & 276733 & 2080674722 & 0 & Les Particules Elementaires & $\\dots$ \\\\\n",
       "\t7 & 276744 & 038550120X & 7 & A Painted House & $\\dots$ \\\\\n",
       "\t8 & 276746 & 0425115801 & 0 & Lightning & $\\dots$ \\\\\n",
       "\t9 & 276746 & 0449006522 & 0 & Manhattan Hunt Club & $\\dots$ \\\\\n",
       "\t10 & 276746 & 0553561618 & 0 & Dark Paradise & $\\dots$ \\\\\n",
       "\t11 & 276746 & 055356451X & 0 & Night Sins & $\\dots$ \\\\\n",
       "\t12 & 276746 & 0786013990 & 0 & At the Edge & $\\dots$ \\\\\n",
       "\t13 & 276746 & 0786014512 & 0 & Make Them Cry & $\\dots$ \\\\\n",
       "\t14 & 276747 & 0060517794 & 9 & Little Altars Everywhere & $\\dots$ \\\\\n",
       "\t15 & 276747 & 0451192001 & 0 & How Stella Got Her Groove Back & $\\dots$ \\\\\n",
       "\t16 & 276747 & 0609801279 & 0 & The Law of Love & $\\dots$ \\\\\n",
       "\t17 & 276747 & 0671537458 & 9 & Waiting to Exhale & $\\dots$ \\\\\n",
       "\t18 & 276747 & 0679776818 & 8 & Birdsong: A Novel of Love and War & $\\dots$ \\\\\n",
       "\t19 & 276747 & 0943066433 & 7 & How to Deal With Difficult People & $\\dots$ \\\\\n",
       "\t20 & 276747 & 1570231028 & 0 & Change Your Job, Change Your Life: High Impact Strategies for Finding Great Jobs in the Decade Ahead (Change Your Job Change Your Life, 7th ed) & $\\dots$ \\\\\n",
       "\t21 & 276747 & 1885408226 & 7 & The Golden Rule of Schmoozing & $\\dots$ \\\\\n",
       "\t22 & 276748 & 0747558167 & 6 & Apricots on the Nile: A Memoir with Recipes & $\\dots$ \\\\\n",
       "\t23 & 276751 & 3596218098 & 8 & Reise nach Ixtlan. Die Lehre des Don Juan. & $\\dots$ \\\\\n",
       "\t24 & 276754 & 0684867621 & 8 & The Girl Who Loved Tom Gordon : A Novel & $\\dots$ \\\\\n",
       "\t25 & 276755 & 0451166892 & 5 & The Pillars of the Earth & $\\dots$ \\\\\n",
       "\t26 & 276762 & 034544003X & 0 & Southampton Row (Charlotte \\&amp; Thomas Pitt Novels (Hardcover)) & $\\dots$ \\\\\n",
       "\t27 & 276762 & 0380000059 & 0 & CLOUT & $\\dots$ \\\\\n",
       "\t28 & 276762 & 0380711524 & 5 & See Jane Run & $\\dots$ \\\\\n",
       "\t29 & 276762 & 0451167317 & 0 & The Dark Half & $\\dots$ \\\\\n",
       "\t30 & 276762 & 0451454952 & 0 & House of the Sun (Shadowrun) & $\\dots$ \\\\\n",
       "\t$\\dots$ & $\\dots$ & $\\dots$ & $\\dots$ & $\\dots$ &  \\\\\n",
       "\\end{tabular}\n"
      ],
      "text/plain": [
       "1031175×10 DataFrame. Omitted printing of 7 columns\n",
       "│ Row     │ User-ID │ ISBN       │ Book-Rating │\n",
       "│         │ \u001b[90mInt64\u001b[39m   │ \u001b[90mString\u001b[39m     │ \u001b[90mInt64\u001b[39m       │\n",
       "├─────────┼─────────┼────────────┼─────────────┤\n",
       "│ 1       │ 276725  │ 034545104X │ 0           │\n",
       "│ 2       │ 276726  │ 0155061224 │ 5           │\n",
       "│ 3       │ 276727  │ 0446520802 │ 0           │\n",
       "│ 4       │ 276729  │ 052165615X │ 3           │\n",
       "│ 5       │ 276729  │ 0521795028 │ 6           │\n",
       "│ 6       │ 276733  │ 2080674722 │ 0           │\n",
       "│ 7       │ 276744  │ 038550120X │ 7           │\n",
       "│ 8       │ 276746  │ 0425115801 │ 0           │\n",
       "│ 9       │ 276746  │ 0449006522 │ 0           │\n",
       "│ 10      │ 276746  │ 0553561618 │ 0           │\n",
       "⋮\n",
       "│ 1031165 │ 276704  │ 0446605409 │ 0           │\n",
       "│ 1031166 │ 276704  │ 059032120X │ 0           │\n",
       "│ 1031167 │ 276704  │ 0679752714 │ 0           │\n",
       "│ 1031168 │ 276704  │ 0743211383 │ 7           │\n",
       "│ 1031169 │ 276704  │ 080410526X │ 0           │\n",
       "│ 1031170 │ 276704  │ 0806917695 │ 5           │\n",
       "│ 1031171 │ 276704  │ 0876044011 │ 0           │\n",
       "│ 1031172 │ 276704  │ 1563526298 │ 9           │\n",
       "│ 1031173 │ 276706  │ 0679447156 │ 0           │\n",
       "│ 1031174 │ 276709  │ 0515107662 │ 10          │\n",
       "│ 1031175 │ 276721  │ 0590442449 │ 10          │"
      ]
     },
     "execution_count": 12,
     "metadata": {},
     "output_type": "execute_result"
    }
   ],
   "source": [
    "books_ratings_books = join(books_ratings, books, on = :ISBN, kind =:inner)"
   ]
  },
  {
   "cell_type": "code",
   "execution_count": 13,
   "metadata": {},
   "outputs": [
    {
     "data": {
      "text/html": [
       "<table class=\"data-frame\"><thead><tr><th></th><th>User-ID</th><th>ISBN</th><th>Book-Rating</th><th>Book-Title</th></tr><tr><th></th><th>Int64</th><th>String</th><th>Int64</th><th>String</th></tr></thead><tbody><p>1,028,149 rows × 12 columns (omitted printing of 8 columns)</p><tr><th>1</th><td>276725</td><td>034545104X</td><td>0</td><td>Flesh Tones: A Novel</td></tr><tr><th>2</th><td>276726</td><td>0155061224</td><td>5</td><td>Rites of Passage</td></tr><tr><th>3</th><td>276727</td><td>0446520802</td><td>0</td><td>The Notebook</td></tr><tr><th>4</th><td>276729</td><td>052165615X</td><td>3</td><td>Help!: Level 1</td></tr><tr><th>5</th><td>276729</td><td>0521795028</td><td>6</td><td>The Amsterdam Connection : Level 4 (Cambridge English Readers)</td></tr><tr><th>6</th><td>276733</td><td>2080674722</td><td>0</td><td>Les Particules Elementaires</td></tr><tr><th>7</th><td>276744</td><td>038550120X</td><td>7</td><td>A Painted House</td></tr><tr><th>8</th><td>276746</td><td>0425115801</td><td>0</td><td>Lightning</td></tr><tr><th>9</th><td>276746</td><td>0449006522</td><td>0</td><td>Manhattan Hunt Club</td></tr><tr><th>10</th><td>276746</td><td>0553561618</td><td>0</td><td>Dark Paradise</td></tr><tr><th>11</th><td>276746</td><td>055356451X</td><td>0</td><td>Night Sins</td></tr><tr><th>12</th><td>276746</td><td>0786013990</td><td>0</td><td>At the Edge</td></tr><tr><th>13</th><td>276746</td><td>0786014512</td><td>0</td><td>Make Them Cry</td></tr><tr><th>14</th><td>276747</td><td>0060517794</td><td>9</td><td>Little Altars Everywhere</td></tr><tr><th>15</th><td>276747</td><td>0451192001</td><td>0</td><td>How Stella Got Her Groove Back</td></tr><tr><th>16</th><td>276747</td><td>0609801279</td><td>0</td><td>The Law of Love</td></tr><tr><th>17</th><td>276747</td><td>0671537458</td><td>9</td><td>Waiting to Exhale</td></tr><tr><th>18</th><td>276747</td><td>0679776818</td><td>8</td><td>Birdsong: A Novel of Love and War</td></tr><tr><th>19</th><td>276747</td><td>0943066433</td><td>7</td><td>How to Deal With Difficult People</td></tr><tr><th>20</th><td>276747</td><td>1570231028</td><td>0</td><td>Change Your Job, Change Your Life: High Impact Strategies for Finding Great Jobs in the Decade Ahead (Change Your Job Change Your Life, 7th ed)</td></tr><tr><th>21</th><td>276747</td><td>1885408226</td><td>7</td><td>The Golden Rule of Schmoozing</td></tr><tr><th>22</th><td>276748</td><td>0747558167</td><td>6</td><td>Apricots on the Nile: A Memoir with Recipes</td></tr><tr><th>23</th><td>276751</td><td>3596218098</td><td>8</td><td>Reise nach Ixtlan. Die Lehre des Don Juan.</td></tr><tr><th>24</th><td>276754</td><td>0684867621</td><td>8</td><td>The Girl Who Loved Tom Gordon : A Novel</td></tr><tr><th>25</th><td>276755</td><td>0451166892</td><td>5</td><td>The Pillars of the Earth</td></tr><tr><th>26</th><td>276762</td><td>034544003X</td><td>0</td><td>Southampton Row (Charlotte &amp;amp; Thomas Pitt Novels (Hardcover))</td></tr><tr><th>27</th><td>276762</td><td>0380000059</td><td>0</td><td>CLOUT</td></tr><tr><th>28</th><td>276762</td><td>0380711524</td><td>5</td><td>See Jane Run</td></tr><tr><th>29</th><td>276762</td><td>0451167317</td><td>0</td><td>The Dark Half</td></tr><tr><th>30</th><td>276762</td><td>0451454952</td><td>0</td><td>House of the Sun (Shadowrun)</td></tr><tr><th>&vellip;</th><td>&vellip;</td><td>&vellip;</td><td>&vellip;</td><td>&vellip;</td></tr></tbody></table>"
      ],
      "text/latex": [
       "\\begin{tabular}{r|ccccc}\n",
       "\t& User-ID & ISBN & Book-Rating & Book-Title & \\\\\n",
       "\t\\hline\n",
       "\t& Int64 & String & Int64 & String & \\\\\n",
       "\t\\hline\n",
       "\t1 & 276725 & 034545104X & 0 & Flesh Tones: A Novel & $\\dots$ \\\\\n",
       "\t2 & 276726 & 0155061224 & 5 & Rites of Passage & $\\dots$ \\\\\n",
       "\t3 & 276727 & 0446520802 & 0 & The Notebook & $\\dots$ \\\\\n",
       "\t4 & 276729 & 052165615X & 3 & Help!: Level 1 & $\\dots$ \\\\\n",
       "\t5 & 276729 & 0521795028 & 6 & The Amsterdam Connection : Level 4 (Cambridge English Readers) & $\\dots$ \\\\\n",
       "\t6 & 276733 & 2080674722 & 0 & Les Particules Elementaires & $\\dots$ \\\\\n",
       "\t7 & 276744 & 038550120X & 7 & A Painted House & $\\dots$ \\\\\n",
       "\t8 & 276746 & 0425115801 & 0 & Lightning & $\\dots$ \\\\\n",
       "\t9 & 276746 & 0449006522 & 0 & Manhattan Hunt Club & $\\dots$ \\\\\n",
       "\t10 & 276746 & 0553561618 & 0 & Dark Paradise & $\\dots$ \\\\\n",
       "\t11 & 276746 & 055356451X & 0 & Night Sins & $\\dots$ \\\\\n",
       "\t12 & 276746 & 0786013990 & 0 & At the Edge & $\\dots$ \\\\\n",
       "\t13 & 276746 & 0786014512 & 0 & Make Them Cry & $\\dots$ \\\\\n",
       "\t14 & 276747 & 0060517794 & 9 & Little Altars Everywhere & $\\dots$ \\\\\n",
       "\t15 & 276747 & 0451192001 & 0 & How Stella Got Her Groove Back & $\\dots$ \\\\\n",
       "\t16 & 276747 & 0609801279 & 0 & The Law of Love & $\\dots$ \\\\\n",
       "\t17 & 276747 & 0671537458 & 9 & Waiting to Exhale & $\\dots$ \\\\\n",
       "\t18 & 276747 & 0679776818 & 8 & Birdsong: A Novel of Love and War & $\\dots$ \\\\\n",
       "\t19 & 276747 & 0943066433 & 7 & How to Deal With Difficult People & $\\dots$ \\\\\n",
       "\t20 & 276747 & 1570231028 & 0 & Change Your Job, Change Your Life: High Impact Strategies for Finding Great Jobs in the Decade Ahead (Change Your Job Change Your Life, 7th ed) & $\\dots$ \\\\\n",
       "\t21 & 276747 & 1885408226 & 7 & The Golden Rule of Schmoozing & $\\dots$ \\\\\n",
       "\t22 & 276748 & 0747558167 & 6 & Apricots on the Nile: A Memoir with Recipes & $\\dots$ \\\\\n",
       "\t23 & 276751 & 3596218098 & 8 & Reise nach Ixtlan. Die Lehre des Don Juan. & $\\dots$ \\\\\n",
       "\t24 & 276754 & 0684867621 & 8 & The Girl Who Loved Tom Gordon : A Novel & $\\dots$ \\\\\n",
       "\t25 & 276755 & 0451166892 & 5 & The Pillars of the Earth & $\\dots$ \\\\\n",
       "\t26 & 276762 & 034544003X & 0 & Southampton Row (Charlotte \\&amp; Thomas Pitt Novels (Hardcover)) & $\\dots$ \\\\\n",
       "\t27 & 276762 & 0380000059 & 0 & CLOUT & $\\dots$ \\\\\n",
       "\t28 & 276762 & 0380711524 & 5 & See Jane Run & $\\dots$ \\\\\n",
       "\t29 & 276762 & 0451167317 & 0 & The Dark Half & $\\dots$ \\\\\n",
       "\t30 & 276762 & 0451454952 & 0 & House of the Sun (Shadowrun) & $\\dots$ \\\\\n",
       "\t$\\dots$ & $\\dots$ & $\\dots$ & $\\dots$ & $\\dots$ &  \\\\\n",
       "\\end{tabular}\n"
      ],
      "text/plain": [
       "1028149×12 DataFrame. Omitted printing of 9 columns\n",
       "│ Row     │ User-ID │ ISBN       │ Book-Rating │\n",
       "│         │ \u001b[90mInt64\u001b[39m   │ \u001b[90mString\u001b[39m     │ \u001b[90mInt64\u001b[39m       │\n",
       "├─────────┼─────────┼────────────┼─────────────┤\n",
       "│ 1       │ 276725  │ 034545104X │ 0           │\n",
       "│ 2       │ 276726  │ 0155061224 │ 5           │\n",
       "│ 3       │ 276727  │ 0446520802 │ 0           │\n",
       "│ 4       │ 276729  │ 052165615X │ 3           │\n",
       "│ 5       │ 276729  │ 0521795028 │ 6           │\n",
       "│ 6       │ 276733  │ 2080674722 │ 0           │\n",
       "│ 7       │ 276744  │ 038550120X │ 7           │\n",
       "│ 8       │ 276746  │ 0425115801 │ 0           │\n",
       "│ 9       │ 276746  │ 0449006522 │ 0           │\n",
       "│ 10      │ 276746  │ 0553561618 │ 0           │\n",
       "⋮\n",
       "│ 1028139 │ 276704  │ 0446605409 │ 0           │\n",
       "│ 1028140 │ 276704  │ 059032120X │ 0           │\n",
       "│ 1028141 │ 276704  │ 0679752714 │ 0           │\n",
       "│ 1028142 │ 276704  │ 0743211383 │ 7           │\n",
       "│ 1028143 │ 276704  │ 080410526X │ 0           │\n",
       "│ 1028144 │ 276704  │ 0806917695 │ 5           │\n",
       "│ 1028145 │ 276704  │ 0876044011 │ 0           │\n",
       "│ 1028146 │ 276704  │ 1563526298 │ 9           │\n",
       "│ 1028147 │ 276706  │ 0679447156 │ 0           │\n",
       "│ 1028148 │ 276709  │ 0515107662 │ 10          │\n",
       "│ 1028149 │ 276721  │ 0590442449 │ 10          │"
      ]
     },
     "execution_count": 13,
     "metadata": {},
     "output_type": "execute_result"
    }
   ],
   "source": [
    " books_ratings_books_users = join(books_ratings_books, users, on =Symbol(\"User-ID\"), kind = :inner)"
   ]
  },
  {
   "cell_type": "code",
   "execution_count": 67,
   "metadata": {},
   "outputs": [
    {
     "data": {
      "text/html": [
       "<table class=\"data-frame\"><thead><tr><th></th><th>User-ID</th><th>ISBN</th><th>Book-Rating</th><th>Book-Title</th></tr><tr><th></th><th>Int64</th><th>String</th><th>Int64</th><th>String</th></tr></thead><tbody><p>289,659 rows × 12 columns (omitted printing of 8 columns)</p><tr><th>1</th><td>276744</td><td>038550120X</td><td>7</td><td>A Painted House</td></tr><tr><th>2</th><td>276747</td><td>0060517794</td><td>9</td><td>Little Altars Everywhere</td></tr><tr><th>3</th><td>276747</td><td>0671537458</td><td>9</td><td>Waiting to Exhale</td></tr><tr><th>4</th><td>276747</td><td>0679776818</td><td>8</td><td>Birdsong: A Novel of Love and War</td></tr><tr><th>5</th><td>276747</td><td>0943066433</td><td>7</td><td>How to Deal With Difficult People</td></tr><tr><th>6</th><td>276747</td><td>1885408226</td><td>7</td><td>The Golden Rule of Schmoozing</td></tr><tr><th>7</th><td>276751</td><td>3596218098</td><td>8</td><td>Reise nach Ixtlan. Die Lehre des Don Juan.</td></tr><tr><th>8</th><td>276754</td><td>0684867621</td><td>8</td><td>The Girl Who Loved Tom Gordon : A Novel</td></tr><tr><th>9</th><td>276762</td><td>3453092007</td><td>8</td><td>Die zweite Haut.</td></tr><tr><th>10</th><td>276772</td><td>0553572369</td><td>7</td><td>Pay Dirt (Mrs. Murphy Mysteries (Paperback))</td></tr><tr><th>11</th><td>276772</td><td>3499230933</td><td>10</td><td>Adressat unbekannt.</td></tr><tr><th>12</th><td>276772</td><td>3596151465</td><td>10</td><td>Henry der Held.</td></tr><tr><th>13</th><td>276774</td><td>3442136644</td><td>9</td><td>Endlich Nichtraucher.</td></tr><tr><th>14</th><td>276786</td><td>8437606322</td><td>8</td><td>Anna Karenina</td></tr><tr><th>15</th><td>276788</td><td>0345443683</td><td>8</td><td>Blackwood Farm (Rice, Anne, Vampire Chronicles.)</td></tr><tr><th>16</th><td>276788</td><td>043935806X</td><td>7</td><td>Harry Potter and the Order of the Phoenix (Book 5)</td></tr><tr><th>17</th><td>276788</td><td>055310666X</td><td>10</td><td>False Memory</td></tr><tr><th>18</th><td>276798</td><td>3442131340</td><td>7</td><td>Ein Fall f\\xc3?¼r Kay Scarpetta / Ein Mord f\\xc3?¼r Kay Scarpetta. Zwei Romane in einem Band.</td></tr><tr><th>19</th><td>276800</td><td>1562827898</td><td>7</td><td>Storm Surge: A Quin St. James and Mike McCleary Mystery</td></tr><tr><th>20</th><td>276804</td><td>0440498058</td><td>8</td><td>A Wrinkle In Time</td></tr><tr><th>21</th><td>276808</td><td>0395547032</td><td>10</td><td>Richard Brautigan : A Confederate General from Big Sur, Dreaming of Babylon, and the Hawkline Monster (Three Books in the Manner of Their Original ed)</td></tr><tr><th>22</th><td>276811</td><td>0440414121</td><td>10</td><td>The Watsons Go to Birmingham - 1963 (Yearling Newbery)</td></tr><tr><th>23</th><td>276813</td><td>8423996565</td><td>8</td><td>La hija del Caníbal</td></tr><tr><th>24</th><td>276813</td><td>8426449476</td><td>8</td><td>El Diaro De Bridget Jones</td></tr><tr><th>25</th><td>276813</td><td>8478886044</td><td>8</td><td>Nadie Es Perfecto (Narrativa Actual)</td></tr><tr><th>26</th><td>276814</td><td>0091830893</td><td>8</td><td>The Circle And The Cross 1: Playing Of</td></tr><tr><th>27</th><td>276814</td><td>0812571029</td><td>9</td><td>Uther (Camulod Chronicles)</td></tr><tr><th>28</th><td>276822</td><td>0060096195</td><td>10</td><td>The Boy Next Door</td></tr><tr><th>29</th><td>276822</td><td>0141310340</td><td>9</td><td>Skin and Other Stories (Now in Speak!)</td></tr><tr><th>30</th><td>276822</td><td>0142302198</td><td>10</td><td>Growing Wings</td></tr><tr><th>&vellip;</th><td>&vellip;</td><td>&vellip;</td><td>&vellip;</td><td>&vellip;</td></tr></tbody></table>"
      ],
      "text/latex": [
       "\\begin{tabular}{r|ccccc}\n",
       "\t& User-ID & ISBN & Book-Rating & Book-Title & \\\\\n",
       "\t\\hline\n",
       "\t& Int64 & String & Int64 & String & \\\\\n",
       "\t\\hline\n",
       "\t1 & 276744 & 038550120X & 7 & A Painted House & $\\dots$ \\\\\n",
       "\t2 & 276747 & 0060517794 & 9 & Little Altars Everywhere & $\\dots$ \\\\\n",
       "\t3 & 276747 & 0671537458 & 9 & Waiting to Exhale & $\\dots$ \\\\\n",
       "\t4 & 276747 & 0679776818 & 8 & Birdsong: A Novel of Love and War & $\\dots$ \\\\\n",
       "\t5 & 276747 & 0943066433 & 7 & How to Deal With Difficult People & $\\dots$ \\\\\n",
       "\t6 & 276747 & 1885408226 & 7 & The Golden Rule of Schmoozing & $\\dots$ \\\\\n",
       "\t7 & 276751 & 3596218098 & 8 & Reise nach Ixtlan. Die Lehre des Don Juan. & $\\dots$ \\\\\n",
       "\t8 & 276754 & 0684867621 & 8 & The Girl Who Loved Tom Gordon : A Novel & $\\dots$ \\\\\n",
       "\t9 & 276762 & 3453092007 & 8 & Die zweite Haut. & $\\dots$ \\\\\n",
       "\t10 & 276772 & 0553572369 & 7 & Pay Dirt (Mrs. Murphy Mysteries (Paperback)) & $\\dots$ \\\\\n",
       "\t11 & 276772 & 3499230933 & 10 & Adressat unbekannt. & $\\dots$ \\\\\n",
       "\t12 & 276772 & 3596151465 & 10 & Henry der Held. & $\\dots$ \\\\\n",
       "\t13 & 276774 & 3442136644 & 9 & Endlich Nichtraucher. & $\\dots$ \\\\\n",
       "\t14 & 276786 & 8437606322 & 8 & Anna Karenina & $\\dots$ \\\\\n",
       "\t15 & 276788 & 0345443683 & 8 & Blackwood Farm (Rice, Anne, Vampire Chronicles.) & $\\dots$ \\\\\n",
       "\t16 & 276788 & 043935806X & 7 & Harry Potter and the Order of the Phoenix (Book 5) & $\\dots$ \\\\\n",
       "\t17 & 276788 & 055310666X & 10 & False Memory & $\\dots$ \\\\\n",
       "\t18 & 276798 & 3442131340 & 7 & Ein Fall f\\textbackslash{}xc3?¼r Kay Scarpetta / Ein Mord f\\textbackslash{}xc3?¼r Kay Scarpetta. Zwei Romane in einem Band. & $\\dots$ \\\\\n",
       "\t19 & 276800 & 1562827898 & 7 & Storm Surge: A Quin St. James and Mike McCleary Mystery & $\\dots$ \\\\\n",
       "\t20 & 276804 & 0440498058 & 8 & A Wrinkle In Time & $\\dots$ \\\\\n",
       "\t21 & 276808 & 0395547032 & 10 & Richard Brautigan : A Confederate General from Big Sur, Dreaming of Babylon, and the Hawkline Monster (Three Books in the Manner of Their Original ed) & $\\dots$ \\\\\n",
       "\t22 & 276811 & 0440414121 & 10 & The Watsons Go to Birmingham - 1963 (Yearling Newbery) & $\\dots$ \\\\\n",
       "\t23 & 276813 & 8423996565 & 8 & La hija del Caníbal & $\\dots$ \\\\\n",
       "\t24 & 276813 & 8426449476 & 8 & El Diaro De Bridget Jones & $\\dots$ \\\\\n",
       "\t25 & 276813 & 8478886044 & 8 & Nadie Es Perfecto (Narrativa Actual) & $\\dots$ \\\\\n",
       "\t26 & 276814 & 0091830893 & 8 & The Circle And The Cross 1: Playing Of & $\\dots$ \\\\\n",
       "\t27 & 276814 & 0812571029 & 9 & Uther (Camulod Chronicles) & $\\dots$ \\\\\n",
       "\t28 & 276822 & 0060096195 & 10 & The Boy Next Door & $\\dots$ \\\\\n",
       "\t29 & 276822 & 0141310340 & 9 & Skin and Other Stories (Now in Speak!) & $\\dots$ \\\\\n",
       "\t30 & 276822 & 0142302198 & 10 & Growing Wings & $\\dots$ \\\\\n",
       "\t$\\dots$ & $\\dots$ & $\\dots$ & $\\dots$ & $\\dots$ &  \\\\\n",
       "\\end{tabular}\n"
      ],
      "text/plain": [
       "289659×12 DataFrame. Omitted printing of 9 columns\n",
       "│ Row    │ User-ID │ ISBN       │ Book-Rating │\n",
       "│        │ \u001b[90mInt64\u001b[39m   │ \u001b[90mString\u001b[39m     │ \u001b[90mInt64\u001b[39m       │\n",
       "├────────┼─────────┼────────────┼─────────────┤\n",
       "│ 1      │ 276744  │ 038550120X │ 7           │\n",
       "│ 2      │ 276747  │ 0060517794 │ 9           │\n",
       "│ 3      │ 276747  │ 0671537458 │ 9           │\n",
       "│ 4      │ 276747  │ 0679776818 │ 8           │\n",
       "│ 5      │ 276747  │ 0943066433 │ 7           │\n",
       "│ 6      │ 276747  │ 1885408226 │ 7           │\n",
       "│ 7      │ 276751  │ 3596218098 │ 8           │\n",
       "│ 8      │ 276754  │ 0684867621 │ 8           │\n",
       "│ 9      │ 276762  │ 3453092007 │ 8           │\n",
       "│ 10     │ 276772  │ 0553572369 │ 7           │\n",
       "⋮\n",
       "│ 289649 │ 276688  │ 0688156134 │ 8           │\n",
       "│ 289650 │ 276688  │ 0743202694 │ 10          │\n",
       "│ 289651 │ 276688  │ 0786011157 │ 7           │\n",
       "│ 289652 │ 276688  │ 0836218655 │ 10          │\n",
       "│ 289653 │ 276688  │ 0836236688 │ 10          │\n",
       "│ 289654 │ 276688  │ 0892966548 │ 10          │\n",
       "│ 289655 │ 276688  │ 1575660792 │ 7           │\n",
       "│ 289656 │ 276704  │ 0743211383 │ 7           │\n",
       "│ 289657 │ 276704  │ 1563526298 │ 9           │\n",
       "│ 289658 │ 276709  │ 0515107662 │ 10          │\n",
       "│ 289659 │ 276721  │ 0590442449 │ 10          │"
      ]
     },
     "execution_count": 67,
     "metadata": {},
     "output_type": "execute_result"
    }
   ],
   "source": [
    "top_ratings = books_ratings_books_users[books_ratings_books_users[Symbol(\"Book-Rating\")].>= 7, :]"
   ]
  },
  {
   "cell_type": "code",
   "execution_count": 15,
   "metadata": {},
   "outputs": [],
   "source": [
    " for n in names(top_ratings)\n",
    "    rename!(top_ratings, n =>Symbol(replace(string(n), \"-\"=>\"\"))) \n",
    "end"
   ]
  },
  {
   "cell_type": "code",
   "execution_count": 16,
   "metadata": {},
   "outputs": [
    {
     "data": {
      "text/plain": [
       "12-element Array{String,1}:\n",
       " \"UserID\"\n",
       " \"ISBN\"\n",
       " \"BookRating\"\n",
       " \"BookTitle\"\n",
       " \"BookAuthor\"\n",
       " \"YearOfPublication\"\n",
       " \"Publisher\"\n",
       " \"ImageURLS\"\n",
       " \"ImageURLM\"\n",
       " \"ImageURLL\"\n",
       " \"Location\"\n",
       " \"Age\""
      ]
     },
     "execution_count": 16,
     "metadata": {},
     "output_type": "execute_result"
    }
   ],
   "source": [
    " names(top_ratings)"
   ]
  },
  {
   "cell_type": "code",
   "execution_count": 17,
   "metadata": {},
   "outputs": [
    {
     "data": {
      "text/html": [
       "<table class=\"data-frame\"><thead><tr><th></th><th>UserID</th><th>x1</th></tr><tr><th></th><th>Int64</th><th>Int32</th></tr></thead><tbody><p>47,012 rows × 2 columns</p><tr><th>1</th><td>276747</td><td>3</td></tr><tr><th>2</th><td>276751</td><td>1</td></tr><tr><th>3</th><td>276754</td><td>1</td></tr><tr><th>4</th><td>276762</td><td>1</td></tr><tr><th>5</th><td>276772</td><td>2</td></tr><tr><th>6</th><td>276774</td><td>1</td></tr><tr><th>7</th><td>276786</td><td>1</td></tr><tr><th>8</th><td>276788</td><td>2</td></tr><tr><th>9</th><td>276804</td><td>1</td></tr><tr><th>10</th><td>276808</td><td>1</td></tr><tr><th>11</th><td>276811</td><td>1</td></tr><tr><th>12</th><td>276813</td><td>3</td></tr><tr><th>13</th><td>276814</td><td>2</td></tr><tr><th>14</th><td>276822</td><td>12</td></tr><tr><th>15</th><td>276830</td><td>1</td></tr><tr><th>16</th><td>276835</td><td>1</td></tr><tr><th>17</th><td>276847</td><td>25</td></tr><tr><th>18</th><td>276859</td><td>6</td></tr><tr><th>19</th><td>276861</td><td>7</td></tr><tr><th>20</th><td>276862</td><td>2</td></tr><tr><th>21</th><td>276866</td><td>3</td></tr><tr><th>22</th><td>276872</td><td>3</td></tr><tr><th>23</th><td>276875</td><td>1</td></tr><tr><th>24</th><td>276887</td><td>1</td></tr><tr><th>25</th><td>276896</td><td>1</td></tr><tr><th>26</th><td>276904</td><td>3</td></tr><tr><th>27</th><td>276905</td><td>1</td></tr><tr><th>28</th><td>276911</td><td>3</td></tr><tr><th>29</th><td>276916</td><td>1</td></tr><tr><th>30</th><td>276925</td><td>9</td></tr><tr><th>&vellip;</th><td>&vellip;</td><td>&vellip;</td></tr></tbody></table>"
      ],
      "text/latex": [
       "\\begin{tabular}{r|cc}\n",
       "\t& UserID & x1\\\\\n",
       "\t\\hline\n",
       "\t& Int64 & Int32\\\\\n",
       "\t\\hline\n",
       "\t1 & 276747 & 3 \\\\\n",
       "\t2 & 276751 & 1 \\\\\n",
       "\t3 & 276754 & 1 \\\\\n",
       "\t4 & 276762 & 1 \\\\\n",
       "\t5 & 276772 & 2 \\\\\n",
       "\t6 & 276774 & 1 \\\\\n",
       "\t7 & 276786 & 1 \\\\\n",
       "\t8 & 276788 & 2 \\\\\n",
       "\t9 & 276804 & 1 \\\\\n",
       "\t10 & 276808 & 1 \\\\\n",
       "\t11 & 276811 & 1 \\\\\n",
       "\t12 & 276813 & 3 \\\\\n",
       "\t13 & 276814 & 2 \\\\\n",
       "\t14 & 276822 & 12 \\\\\n",
       "\t15 & 276830 & 1 \\\\\n",
       "\t16 & 276835 & 1 \\\\\n",
       "\t17 & 276847 & 25 \\\\\n",
       "\t18 & 276859 & 6 \\\\\n",
       "\t19 & 276861 & 7 \\\\\n",
       "\t20 & 276862 & 2 \\\\\n",
       "\t21 & 276866 & 3 \\\\\n",
       "\t22 & 276872 & 3 \\\\\n",
       "\t23 & 276875 & 1 \\\\\n",
       "\t24 & 276887 & 1 \\\\\n",
       "\t25 & 276896 & 1 \\\\\n",
       "\t26 & 276904 & 3 \\\\\n",
       "\t27 & 276905 & 1 \\\\\n",
       "\t28 & 276911 & 3 \\\\\n",
       "\t29 & 276916 & 1 \\\\\n",
       "\t30 & 276925 & 9 \\\\\n",
       "\t$\\dots$ & $\\dots$ & $\\dots$ \\\\\n",
       "\\end{tabular}\n"
      ],
      "text/plain": [
       "47012×2 DataFrame\n",
       "│ Row   │ UserID │ x1    │\n",
       "│       │ \u001b[90mInt64\u001b[39m  │ \u001b[90mInt32\u001b[39m │\n",
       "├───────┼────────┼───────┤\n",
       "│ 1     │ 276747 │ 3     │\n",
       "│ 2     │ 276751 │ 1     │\n",
       "│ 3     │ 276754 │ 1     │\n",
       "│ 4     │ 276762 │ 1     │\n",
       "│ 5     │ 276772 │ 2     │\n",
       "│ 6     │ 276774 │ 1     │\n",
       "│ 7     │ 276786 │ 1     │\n",
       "│ 8     │ 276788 │ 2     │\n",
       "│ 9     │ 276804 │ 1     │\n",
       "│ 10    │ 276808 │ 1     │\n",
       "⋮\n",
       "│ 47002 │ 276660 │ 1     │\n",
       "│ 47003 │ 276664 │ 2     │\n",
       "│ 47004 │ 276670 │ 10    │\n",
       "│ 47005 │ 276671 │ 1     │\n",
       "│ 47006 │ 276680 │ 40    │\n",
       "│ 47007 │ 276681 │ 9     │\n",
       "│ 47008 │ 276683 │ 1     │\n",
       "│ 47009 │ 276688 │ 16    │\n",
       "│ 47010 │ 276704 │ 1     │\n",
       "│ 47011 │ 276709 │ 1     │\n",
       "│ 47012 │ 276721 │ 1     │"
      ]
     },
     "execution_count": 17,
     "metadata": {},
     "output_type": "execute_result"
    }
   ],
   "source": [
    "ratings_count = by(top_ratings, :UserID, df -> size(df[:UserID])[1])"
   ]
  },
  {
   "cell_type": "code",
   "execution_count": 18,
   "metadata": {},
   "outputs": [
    {
     "data": {
      "text/plain": [
       "2-element Array{String,1}:\n",
       " \"UserID\"\n",
       " \"x1\""
      ]
     },
     "execution_count": 18,
     "metadata": {},
     "output_type": "execute_result"
    }
   ],
   "source": [
    "names(ratings_count)"
   ]
  },
  {
   "cell_type": "code",
   "execution_count": 19,
   "metadata": {},
   "outputs": [
    {
     "data": {
      "text/html": [
       "<table class=\"data-frame\"><thead><tr><th></th><th>UserID</th><th>x1</th></tr><tr><th></th><th>Int64</th><th>Int32</th></tr></thead><tbody><p>7,430 rows × 2 columns</p><tr><th>1</th><td>276822</td><td>12</td></tr><tr><th>2</th><td>276847</td><td>25</td></tr><tr><th>3</th><td>276859</td><td>6</td></tr><tr><th>4</th><td>276861</td><td>7</td></tr><tr><th>5</th><td>276925</td><td>9</td></tr><tr><th>6</th><td>276929</td><td>6</td></tr><tr><th>7</th><td>276939</td><td>8</td></tr><tr><th>8</th><td>276964</td><td>13</td></tr><tr><th>9</th><td>276984</td><td>14</td></tr><tr><th>10</th><td>276994</td><td>5</td></tr><tr><th>11</th><td>277171</td><td>7</td></tr><tr><th>12</th><td>277195</td><td>10</td></tr><tr><th>13</th><td>277203</td><td>43</td></tr><tr><th>14</th><td>277427</td><td>116</td></tr><tr><th>15</th><td>277478</td><td>14</td></tr><tr><th>16</th><td>277509</td><td>5</td></tr><tr><th>17</th><td>277523</td><td>24</td></tr><tr><th>18</th><td>277527</td><td>5</td></tr><tr><th>19</th><td>277623</td><td>5</td></tr><tr><th>20</th><td>277629</td><td>6</td></tr><tr><th>21</th><td>277639</td><td>16</td></tr><tr><th>22</th><td>277744</td><td>9</td></tr><tr><th>23</th><td>277901</td><td>6</td></tr><tr><th>24</th><td>277923</td><td>5</td></tr><tr><th>25</th><td>277928</td><td>13</td></tr><tr><th>26</th><td>277929</td><td>15</td></tr><tr><th>27</th><td>277954</td><td>5</td></tr><tr><th>28</th><td>277965</td><td>22</td></tr><tr><th>29</th><td>277984</td><td>6</td></tr><tr><th>30</th><td>278026</td><td>26</td></tr><tr><th>&vellip;</th><td>&vellip;</td><td>&vellip;</td></tr></tbody></table>"
      ],
      "text/latex": [
       "\\begin{tabular}{r|cc}\n",
       "\t& UserID & x1\\\\\n",
       "\t\\hline\n",
       "\t& Int64 & Int32\\\\\n",
       "\t\\hline\n",
       "\t1 & 276822 & 12 \\\\\n",
       "\t2 & 276847 & 25 \\\\\n",
       "\t3 & 276859 & 6 \\\\\n",
       "\t4 & 276861 & 7 \\\\\n",
       "\t5 & 276925 & 9 \\\\\n",
       "\t6 & 276929 & 6 \\\\\n",
       "\t7 & 276939 & 8 \\\\\n",
       "\t8 & 276964 & 13 \\\\\n",
       "\t9 & 276984 & 14 \\\\\n",
       "\t10 & 276994 & 5 \\\\\n",
       "\t11 & 277171 & 7 \\\\\n",
       "\t12 & 277195 & 10 \\\\\n",
       "\t13 & 277203 & 43 \\\\\n",
       "\t14 & 277427 & 116 \\\\\n",
       "\t15 & 277478 & 14 \\\\\n",
       "\t16 & 277509 & 5 \\\\\n",
       "\t17 & 277523 & 24 \\\\\n",
       "\t18 & 277527 & 5 \\\\\n",
       "\t19 & 277623 & 5 \\\\\n",
       "\t20 & 277629 & 6 \\\\\n",
       "\t21 & 277639 & 16 \\\\\n",
       "\t22 & 277744 & 9 \\\\\n",
       "\t23 & 277901 & 6 \\\\\n",
       "\t24 & 277923 & 5 \\\\\n",
       "\t25 & 277928 & 13 \\\\\n",
       "\t26 & 277929 & 15 \\\\\n",
       "\t27 & 277954 & 5 \\\\\n",
       "\t28 & 277965 & 22 \\\\\n",
       "\t29 & 277984 & 6 \\\\\n",
       "\t30 & 278026 & 26 \\\\\n",
       "\t$\\dots$ & $\\dots$ & $\\dots$ \\\\\n",
       "\\end{tabular}\n"
      ],
      "text/plain": [
       "7430×2 DataFrame\n",
       "│ Row  │ UserID │ x1    │\n",
       "│      │ \u001b[90mInt64\u001b[39m  │ \u001b[90mInt32\u001b[39m │\n",
       "├──────┼────────┼───────┤\n",
       "│ 1    │ 276822 │ 12    │\n",
       "│ 2    │ 276847 │ 25    │\n",
       "│ 3    │ 276859 │ 6     │\n",
       "│ 4    │ 276861 │ 7     │\n",
       "│ 5    │ 276925 │ 9     │\n",
       "│ 6    │ 276929 │ 6     │\n",
       "│ 7    │ 276939 │ 8     │\n",
       "│ 8    │ 276964 │ 13    │\n",
       "│ 9    │ 276984 │ 14    │\n",
       "│ 10   │ 276994 │ 5     │\n",
       "⋮\n",
       "│ 7420 │ 276487 │ 5     │\n",
       "│ 7421 │ 276498 │ 8     │\n",
       "│ 7422 │ 276521 │ 14    │\n",
       "│ 7423 │ 276538 │ 9     │\n",
       "│ 7424 │ 276560 │ 5     │\n",
       "│ 7425 │ 276579 │ 6     │\n",
       "│ 7426 │ 276641 │ 13    │\n",
       "│ 7427 │ 276670 │ 10    │\n",
       "│ 7428 │ 276680 │ 40    │\n",
       "│ 7429 │ 276681 │ 9     │\n",
       "│ 7430 │ 276688 │ 16    │"
      ]
     },
     "execution_count": 19,
     "metadata": {},
     "output_type": "execute_result"
    }
   ],
   "source": [
    "ratings_count = ratings_count[ratings_count[:x1] .>= 5, :]"
   ]
  },
  {
   "cell_type": "code",
   "execution_count": 20,
   "metadata": {},
   "outputs": [
    {
     "data": {
      "text/html": [
       "<table class=\"data-frame\"><thead><tr><th></th><th>UserID</th><th>x1</th></tr><tr><th></th><th>Int64</th><th>Int32</th></tr></thead><tbody><p>3 rows × 2 columns</p><tr><th>1</th><td>11676</td><td>3750</td></tr><tr><th>2</th><td>98391</td><td>5492</td></tr><tr><th>3</th><td>153662</td><td>1592</td></tr></tbody></table>"
      ],
      "text/latex": [
       "\\begin{tabular}{r|cc}\n",
       "\t& UserID & x1\\\\\n",
       "\t\\hline\n",
       "\t& Int64 & Int32\\\\\n",
       "\t\\hline\n",
       "\t1 & 11676 & 3750 \\\\\n",
       "\t2 & 98391 & 5492 \\\\\n",
       "\t3 & 153662 & 1592 \\\\\n",
       "\\end{tabular}\n"
      ],
      "text/plain": [
       "3×2 DataFrame\n",
       "│ Row │ UserID │ x1    │\n",
       "│     │ \u001b[90mInt64\u001b[39m  │ \u001b[90mInt32\u001b[39m │\n",
       "├─────┼────────┼───────┤\n",
       "│ 1   │ 11676  │ 3750  │\n",
       "│ 2   │ 98391  │ 5492  │\n",
       "│ 3   │ 153662 │ 1592  │"
      ]
     },
     "execution_count": 20,
     "metadata": {},
     "output_type": "execute_result"
    }
   ],
   "source": [
    "ratings_count[ratings_count[:x1] .> 1000, :]"
   ]
  },
  {
   "cell_type": "code",
   "execution_count": 21,
   "metadata": {},
   "outputs": [
    {
     "data": {
      "text/html": [
       "<table class=\"data-frame\"><thead><tr><th></th><th>UserID</th><th>x1</th></tr><tr><th></th><th>Int64</th><th>Int32</th></tr></thead><tbody><p>7,427 rows × 2 columns</p><tr><th>1</th><td>276822</td><td>12</td></tr><tr><th>2</th><td>276847</td><td>25</td></tr><tr><th>3</th><td>276859</td><td>6</td></tr><tr><th>4</th><td>276861</td><td>7</td></tr><tr><th>5</th><td>276925</td><td>9</td></tr><tr><th>6</th><td>276929</td><td>6</td></tr><tr><th>7</th><td>276939</td><td>8</td></tr><tr><th>8</th><td>276964</td><td>13</td></tr><tr><th>9</th><td>276984</td><td>14</td></tr><tr><th>10</th><td>276994</td><td>5</td></tr><tr><th>11</th><td>277171</td><td>7</td></tr><tr><th>12</th><td>277195</td><td>10</td></tr><tr><th>13</th><td>277203</td><td>43</td></tr><tr><th>14</th><td>277427</td><td>116</td></tr><tr><th>15</th><td>277478</td><td>14</td></tr><tr><th>16</th><td>277509</td><td>5</td></tr><tr><th>17</th><td>277523</td><td>24</td></tr><tr><th>18</th><td>277527</td><td>5</td></tr><tr><th>19</th><td>277623</td><td>5</td></tr><tr><th>20</th><td>277629</td><td>6</td></tr><tr><th>21</th><td>277639</td><td>16</td></tr><tr><th>22</th><td>277744</td><td>9</td></tr><tr><th>23</th><td>277901</td><td>6</td></tr><tr><th>24</th><td>277923</td><td>5</td></tr><tr><th>25</th><td>277928</td><td>13</td></tr><tr><th>26</th><td>277929</td><td>15</td></tr><tr><th>27</th><td>277954</td><td>5</td></tr><tr><th>28</th><td>277965</td><td>22</td></tr><tr><th>29</th><td>277984</td><td>6</td></tr><tr><th>30</th><td>278026</td><td>26</td></tr><tr><th>&vellip;</th><td>&vellip;</td><td>&vellip;</td></tr></tbody></table>"
      ],
      "text/latex": [
       "\\begin{tabular}{r|cc}\n",
       "\t& UserID & x1\\\\\n",
       "\t\\hline\n",
       "\t& Int64 & Int32\\\\\n",
       "\t\\hline\n",
       "\t1 & 276822 & 12 \\\\\n",
       "\t2 & 276847 & 25 \\\\\n",
       "\t3 & 276859 & 6 \\\\\n",
       "\t4 & 276861 & 7 \\\\\n",
       "\t5 & 276925 & 9 \\\\\n",
       "\t6 & 276929 & 6 \\\\\n",
       "\t7 & 276939 & 8 \\\\\n",
       "\t8 & 276964 & 13 \\\\\n",
       "\t9 & 276984 & 14 \\\\\n",
       "\t10 & 276994 & 5 \\\\\n",
       "\t11 & 277171 & 7 \\\\\n",
       "\t12 & 277195 & 10 \\\\\n",
       "\t13 & 277203 & 43 \\\\\n",
       "\t14 & 277427 & 116 \\\\\n",
       "\t15 & 277478 & 14 \\\\\n",
       "\t16 & 277509 & 5 \\\\\n",
       "\t17 & 277523 & 24 \\\\\n",
       "\t18 & 277527 & 5 \\\\\n",
       "\t19 & 277623 & 5 \\\\\n",
       "\t20 & 277629 & 6 \\\\\n",
       "\t21 & 277639 & 16 \\\\\n",
       "\t22 & 277744 & 9 \\\\\n",
       "\t23 & 277901 & 6 \\\\\n",
       "\t24 & 277923 & 5 \\\\\n",
       "\t25 & 277928 & 13 \\\\\n",
       "\t26 & 277929 & 15 \\\\\n",
       "\t27 & 277954 & 5 \\\\\n",
       "\t28 & 277965 & 22 \\\\\n",
       "\t29 & 277984 & 6 \\\\\n",
       "\t30 & 278026 & 26 \\\\\n",
       "\t$\\dots$ & $\\dots$ & $\\dots$ \\\\\n",
       "\\end{tabular}\n"
      ],
      "text/plain": [
       "7427×2 DataFrame\n",
       "│ Row  │ UserID │ x1    │\n",
       "│      │ \u001b[90mInt64\u001b[39m  │ \u001b[90mInt32\u001b[39m │\n",
       "├──────┼────────┼───────┤\n",
       "│ 1    │ 276822 │ 12    │\n",
       "│ 2    │ 276847 │ 25    │\n",
       "│ 3    │ 276859 │ 6     │\n",
       "│ 4    │ 276861 │ 7     │\n",
       "│ 5    │ 276925 │ 9     │\n",
       "│ 6    │ 276929 │ 6     │\n",
       "│ 7    │ 276939 │ 8     │\n",
       "│ 8    │ 276964 │ 13    │\n",
       "│ 9    │ 276984 │ 14    │\n",
       "│ 10   │ 276994 │ 5     │\n",
       "⋮\n",
       "│ 7417 │ 276487 │ 5     │\n",
       "│ 7418 │ 276498 │ 8     │\n",
       "│ 7419 │ 276521 │ 14    │\n",
       "│ 7420 │ 276538 │ 9     │\n",
       "│ 7421 │ 276560 │ 5     │\n",
       "│ 7422 │ 276579 │ 6     │\n",
       "│ 7423 │ 276641 │ 13    │\n",
       "│ 7424 │ 276670 │ 10    │\n",
       "│ 7425 │ 276680 │ 40    │\n",
       "│ 7426 │ 276681 │ 9     │\n",
       "│ 7427 │ 276688 │ 16    │"
      ]
     },
     "execution_count": 21,
     "metadata": {},
     "output_type": "execute_result"
    }
   ],
   "source": [
    "ratings_count = ratings_count[ratings_count[:x1] .<= 1000, :]"
   ]
  },
  {
   "cell_type": "code",
   "execution_count": 22,
   "metadata": {},
   "outputs": [
    {
     "data": {
      "text/html": [
       "<table class=\"data-frame\"><thead><tr><th></th><th>UserID</th><th>ISBN</th><th>BookRating</th><th>BookTitle</th></tr><tr><th></th><th>Int64</th><th>String</th><th>Int64</th><th>String</th></tr></thead><tbody><p>155,059 rows × 13 columns (omitted printing of 9 columns)</p><tr><th>1</th><td>276822</td><td>0060096195</td><td>10</td><td>The Boy Next Door</td></tr><tr><th>2</th><td>276822</td><td>0141310340</td><td>9</td><td>Skin and Other Stories (Now in Speak!)</td></tr><tr><th>3</th><td>276822</td><td>0142302198</td><td>10</td><td>Growing Wings</td></tr><tr><th>4</th><td>276822</td><td>0156006065</td><td>9</td><td>The Riddle of Scheherazade: And Other Amazing Puzzles</td></tr><tr><th>5</th><td>276822</td><td>0375821813</td><td>9</td><td>Hoot (Newbery Honor Book)</td></tr><tr><th>6</th><td>276822</td><td>038076041X</td><td>10</td><td>A Kid's Guide to How to Save the Planet (Camelot world)</td></tr><tr><th>7</th><td>276822</td><td>0689804458</td><td>8</td><td>A String in the Harp</td></tr><tr><th>8</th><td>276822</td><td>0786812508</td><td>9</td><td>The Sandy Bottom Orchestra</td></tr><tr><th>9</th><td>276822</td><td>0786817070</td><td>10</td><td>Artemis Fowl (Artemis Fowl, Book 1)</td></tr><tr><th>10</th><td>276822</td><td>0805057706</td><td>10</td><td>The Number Devil: A Mathematical Adventure</td></tr><tr><th>11</th><td>276822</td><td>1551925060</td><td>8</td><td>Surviving Sam</td></tr><tr><th>12</th><td>276822</td><td>1573248533</td><td>10</td><td>Random Acts of Kindness</td></tr><tr><th>13</th><td>276847</td><td>3404145909</td><td>8</td><td>Der Stein der Kelten.</td></tr><tr><th>14</th><td>276847</td><td>3404148576</td><td>8</td><td>Nordermoor</td></tr><tr><th>15</th><td>276847</td><td>3423071516</td><td>10</td><td>Der Kleine Hobbit</td></tr><tr><th>16</th><td>276847</td><td>3426671298</td><td>8</td><td>Das geheime ABC der Toten.</td></tr><tr><th>17</th><td>276847</td><td>344215121X</td><td>9</td><td>Hitlers Kinder.</td></tr><tr><th>18</th><td>276847</td><td>3442413508</td><td>10</td><td>Auf Ehre und Gewissen. Roman.</td></tr><tr><th>19</th><td>276847</td><td>3442422035</td><td>9</td><td>Keiner werfe den ersten Stein. Roman.</td></tr><tr><th>20</th><td>276847</td><td>3442435773</td><td>8</td><td>Denn keiner ist ohne Schuld.</td></tr><tr><th>21</th><td>276847</td><td>3442441080</td><td>10</td><td>Im Angesicht des Feindes.</td></tr><tr><th>22</th><td>276847</td><td>3442444020</td><td>8</td><td>Denn sie betr\\xc3?¼gt man nicht.</td></tr><tr><th>23</th><td>276847</td><td>3442446414</td><td>10</td><td>Mit dem K\\xc3?¼hlschrank durch Irland.</td></tr><tr><th>24</th><td>276847</td><td>3442449820</td><td>9</td><td>Undank ist der V\\xc3?¤ter Lohn.</td></tr><tr><th>25</th><td>276847</td><td>3492231322</td><td>9</td><td>Der Unterh\\xc3?¤ndler.</td></tr><tr><th>26</th><td>276847</td><td>3499433443</td><td>8</td><td>Goldmann: Feuer in Berlin</td></tr><tr><th>27</th><td>276847</td><td>3506464078</td><td>10</td><td>Le Petit Prince. (Franz\\xc3?¶sische Ausgabe). (Lernmaterialien)</td></tr><tr><th>28</th><td>276847</td><td>3551551677</td><td>10</td><td>Harry Potter und der Stein der Weisen</td></tr><tr><th>29</th><td>276847</td><td>3551551685</td><td>10</td><td>Harry Potter und die Kammer des Schreckens</td></tr><tr><th>30</th><td>276847</td><td>3551551693</td><td>10</td><td>Harry Potter und der Gefangene von Azkaban</td></tr><tr><th>&vellip;</th><td>&vellip;</td><td>&vellip;</td><td>&vellip;</td><td>&vellip;</td></tr></tbody></table>"
      ],
      "text/latex": [
       "\\begin{tabular}{r|ccccc}\n",
       "\t& UserID & ISBN & BookRating & BookTitle & \\\\\n",
       "\t\\hline\n",
       "\t& Int64 & String & Int64 & String & \\\\\n",
       "\t\\hline\n",
       "\t1 & 276822 & 0060096195 & 10 & The Boy Next Door & $\\dots$ \\\\\n",
       "\t2 & 276822 & 0141310340 & 9 & Skin and Other Stories (Now in Speak!) & $\\dots$ \\\\\n",
       "\t3 & 276822 & 0142302198 & 10 & Growing Wings & $\\dots$ \\\\\n",
       "\t4 & 276822 & 0156006065 & 9 & The Riddle of Scheherazade: And Other Amazing Puzzles & $\\dots$ \\\\\n",
       "\t5 & 276822 & 0375821813 & 9 & Hoot (Newbery Honor Book) & $\\dots$ \\\\\n",
       "\t6 & 276822 & 038076041X & 10 & A Kid's Guide to How to Save the Planet (Camelot world) & $\\dots$ \\\\\n",
       "\t7 & 276822 & 0689804458 & 8 & A String in the Harp & $\\dots$ \\\\\n",
       "\t8 & 276822 & 0786812508 & 9 & The Sandy Bottom Orchestra & $\\dots$ \\\\\n",
       "\t9 & 276822 & 0786817070 & 10 & Artemis Fowl (Artemis Fowl, Book 1) & $\\dots$ \\\\\n",
       "\t10 & 276822 & 0805057706 & 10 & The Number Devil: A Mathematical Adventure & $\\dots$ \\\\\n",
       "\t11 & 276822 & 1551925060 & 8 & Surviving Sam & $\\dots$ \\\\\n",
       "\t12 & 276822 & 1573248533 & 10 & Random Acts of Kindness & $\\dots$ \\\\\n",
       "\t13 & 276847 & 3404145909 & 8 & Der Stein der Kelten. & $\\dots$ \\\\\n",
       "\t14 & 276847 & 3404148576 & 8 & Nordermoor & $\\dots$ \\\\\n",
       "\t15 & 276847 & 3423071516 & 10 & Der Kleine Hobbit & $\\dots$ \\\\\n",
       "\t16 & 276847 & 3426671298 & 8 & Das geheime ABC der Toten. & $\\dots$ \\\\\n",
       "\t17 & 276847 & 344215121X & 9 & Hitlers Kinder. & $\\dots$ \\\\\n",
       "\t18 & 276847 & 3442413508 & 10 & Auf Ehre und Gewissen. Roman. & $\\dots$ \\\\\n",
       "\t19 & 276847 & 3442422035 & 9 & Keiner werfe den ersten Stein. Roman. & $\\dots$ \\\\\n",
       "\t20 & 276847 & 3442435773 & 8 & Denn keiner ist ohne Schuld. & $\\dots$ \\\\\n",
       "\t21 & 276847 & 3442441080 & 10 & Im Angesicht des Feindes. & $\\dots$ \\\\\n",
       "\t22 & 276847 & 3442444020 & 8 & Denn sie betr\\textbackslash{}xc3?¼gt man nicht. & $\\dots$ \\\\\n",
       "\t23 & 276847 & 3442446414 & 10 & Mit dem K\\textbackslash{}xc3?¼hlschrank durch Irland. & $\\dots$ \\\\\n",
       "\t24 & 276847 & 3442449820 & 9 & Undank ist der V\\textbackslash{}xc3?¤ter Lohn. & $\\dots$ \\\\\n",
       "\t25 & 276847 & 3492231322 & 9 & Der Unterh\\textbackslash{}xc3?¤ndler. & $\\dots$ \\\\\n",
       "\t26 & 276847 & 3499433443 & 8 & Goldmann: Feuer in Berlin & $\\dots$ \\\\\n",
       "\t27 & 276847 & 3506464078 & 10 & Le Petit Prince. (Franz\\textbackslash{}xc3?¶sische Ausgabe). (Lernmaterialien) & $\\dots$ \\\\\n",
       "\t28 & 276847 & 3551551677 & 10 & Harry Potter und der Stein der Weisen & $\\dots$ \\\\\n",
       "\t29 & 276847 & 3551551685 & 10 & Harry Potter und die Kammer des Schreckens & $\\dots$ \\\\\n",
       "\t30 & 276847 & 3551551693 & 10 & Harry Potter und der Gefangene von Azkaban & $\\dots$ \\\\\n",
       "\t$\\dots$ & $\\dots$ & $\\dots$ & $\\dots$ & $\\dots$ &  \\\\\n",
       "\\end{tabular}\n"
      ],
      "text/plain": [
       "155059×13 DataFrame. Omitted printing of 10 columns\n",
       "│ Row    │ UserID │ ISBN       │ BookRating │\n",
       "│        │ \u001b[90mInt64\u001b[39m  │ \u001b[90mString\u001b[39m     │ \u001b[90mInt64\u001b[39m      │\n",
       "├────────┼────────┼────────────┼────────────┤\n",
       "│ 1      │ 276822 │ 0060096195 │ 10         │\n",
       "│ 2      │ 276822 │ 0141310340 │ 9          │\n",
       "│ 3      │ 276822 │ 0142302198 │ 10         │\n",
       "│ 4      │ 276822 │ 0156006065 │ 9          │\n",
       "│ 5      │ 276822 │ 0375821813 │ 9          │\n",
       "│ 6      │ 276822 │ 038076041X │ 10         │\n",
       "│ 7      │ 276822 │ 0689804458 │ 8          │\n",
       "│ 8      │ 276822 │ 0786812508 │ 9          │\n",
       "│ 9      │ 276822 │ 0786817070 │ 10         │\n",
       "│ 10     │ 276822 │ 0805057706 │ 10         │\n",
       "⋮\n",
       "│ 155049 │ 276688 │ 0553074938 │ 8          │\n",
       "│ 155050 │ 276688 │ 0553074946 │ 9          │\n",
       "│ 155051 │ 276688 │ 0553088467 │ 8          │\n",
       "│ 155052 │ 276688 │ 0553089234 │ 10         │\n",
       "│ 155053 │ 276688 │ 0684195569 │ 10         │\n",
       "│ 155054 │ 276688 │ 0684804484 │ 10         │\n",
       "│ 155055 │ 276688 │ 0688156134 │ 8          │\n",
       "│ 155056 │ 276688 │ 0743202694 │ 10         │\n",
       "│ 155057 │ 276688 │ 0836218655 │ 10         │\n",
       "│ 155058 │ 276688 │ 0836236688 │ 10         │\n",
       "│ 155059 │ 276688 │ 0892966548 │ 10         │"
      ]
     },
     "execution_count": 22,
     "metadata": {},
     "output_type": "execute_result"
    }
   ],
   "source": [
    "top_ratings = join(top_ratings, ratings_count, on = :UserID, kind =:inner)"
   ]
  },
  {
   "cell_type": "code",
   "execution_count": 23,
   "metadata": {},
   "outputs": [
    {
     "data": {
      "text/plain": [
       "\"top_ratings.csv\""
      ]
     },
     "execution_count": 23,
     "metadata": {},
     "output_type": "execute_result"
    }
   ],
   "source": [
    "CSV.write(\"top_ratings.csv\", top_ratings)"
   ]
  },
  {
   "cell_type": "code",
   "execution_count": 24,
   "metadata": {},
   "outputs": [
    {
     "data": {
      "text/html": [
       "<table class=\"data-frame\"><thead><tr><th></th><th>UserID</th><th>ISBN</th><th>BookRating</th><th>BookTitle</th></tr><tr><th></th><th>Int64</th><th>String</th><th>Int64</th><th>String</th></tr></thead><tbody><p>155,059 rows × 13 columns (omitted printing of 9 columns)</p><tr><th>1</th><td>276822</td><td>0060096195</td><td>10</td><td>The Boy Next Door</td></tr><tr><th>2</th><td>276822</td><td>0141310340</td><td>9</td><td>Skin and Other Stories (Now in Speak!)</td></tr><tr><th>3</th><td>276822</td><td>0142302198</td><td>10</td><td>Growing Wings</td></tr><tr><th>4</th><td>276822</td><td>0156006065</td><td>9</td><td>The Riddle of Scheherazade: And Other Amazing Puzzles</td></tr><tr><th>5</th><td>276822</td><td>0375821813</td><td>9</td><td>Hoot (Newbery Honor Book)</td></tr><tr><th>6</th><td>276822</td><td>038076041X</td><td>10</td><td>A Kid's Guide to How to Save the Planet (Camelot world)</td></tr><tr><th>7</th><td>276822</td><td>0689804458</td><td>8</td><td>A String in the Harp</td></tr><tr><th>8</th><td>276822</td><td>0786812508</td><td>9</td><td>The Sandy Bottom Orchestra</td></tr><tr><th>9</th><td>276822</td><td>0786817070</td><td>10</td><td>Artemis Fowl (Artemis Fowl, Book 1)</td></tr><tr><th>10</th><td>276822</td><td>0805057706</td><td>10</td><td>The Number Devil: A Mathematical Adventure</td></tr><tr><th>11</th><td>276822</td><td>1551925060</td><td>8</td><td>Surviving Sam</td></tr><tr><th>12</th><td>276822</td><td>1573248533</td><td>10</td><td>Random Acts of Kindness</td></tr><tr><th>13</th><td>276847</td><td>3404145909</td><td>8</td><td>Der Stein der Kelten.</td></tr><tr><th>14</th><td>276847</td><td>3404148576</td><td>8</td><td>Nordermoor</td></tr><tr><th>15</th><td>276847</td><td>3423071516</td><td>10</td><td>Der Kleine Hobbit</td></tr><tr><th>16</th><td>276847</td><td>3426671298</td><td>8</td><td>Das geheime ABC der Toten.</td></tr><tr><th>17</th><td>276847</td><td>344215121X</td><td>9</td><td>Hitlers Kinder.</td></tr><tr><th>18</th><td>276847</td><td>3442413508</td><td>10</td><td>Auf Ehre und Gewissen. Roman.</td></tr><tr><th>19</th><td>276847</td><td>3442422035</td><td>9</td><td>Keiner werfe den ersten Stein. Roman.</td></tr><tr><th>20</th><td>276847</td><td>3442435773</td><td>8</td><td>Denn keiner ist ohne Schuld.</td></tr><tr><th>21</th><td>276847</td><td>3442441080</td><td>10</td><td>Im Angesicht des Feindes.</td></tr><tr><th>22</th><td>276847</td><td>3442444020</td><td>8</td><td>Denn sie betr\\xc3?¼gt man nicht.</td></tr><tr><th>23</th><td>276847</td><td>3442446414</td><td>10</td><td>Mit dem K\\xc3?¼hlschrank durch Irland.</td></tr><tr><th>24</th><td>276847</td><td>3442449820</td><td>9</td><td>Undank ist der V\\xc3?¤ter Lohn.</td></tr><tr><th>25</th><td>276847</td><td>3492231322</td><td>9</td><td>Der Unterh\\xc3?¤ndler.</td></tr><tr><th>26</th><td>276847</td><td>3499433443</td><td>8</td><td>Goldmann: Feuer in Berlin</td></tr><tr><th>27</th><td>276847</td><td>3506464078</td><td>10</td><td>Le Petit Prince. (Franz\\xc3?¶sische Ausgabe). (Lernmaterialien)</td></tr><tr><th>28</th><td>276847</td><td>3551551677</td><td>10</td><td>Harry Potter und der Stein der Weisen</td></tr><tr><th>29</th><td>276847</td><td>3551551685</td><td>10</td><td>Harry Potter und die Kammer des Schreckens</td></tr><tr><th>30</th><td>276847</td><td>3551551693</td><td>10</td><td>Harry Potter und der Gefangene von Azkaban</td></tr><tr><th>&vellip;</th><td>&vellip;</td><td>&vellip;</td><td>&vellip;</td><td>&vellip;</td></tr></tbody></table>"
      ],
      "text/latex": [
       "\\begin{tabular}{r|ccccc}\n",
       "\t& UserID & ISBN & BookRating & BookTitle & \\\\\n",
       "\t\\hline\n",
       "\t& Int64 & String & Int64 & String & \\\\\n",
       "\t\\hline\n",
       "\t1 & 276822 & 0060096195 & 10 & The Boy Next Door & $\\dots$ \\\\\n",
       "\t2 & 276822 & 0141310340 & 9 & Skin and Other Stories (Now in Speak!) & $\\dots$ \\\\\n",
       "\t3 & 276822 & 0142302198 & 10 & Growing Wings & $\\dots$ \\\\\n",
       "\t4 & 276822 & 0156006065 & 9 & The Riddle of Scheherazade: And Other Amazing Puzzles & $\\dots$ \\\\\n",
       "\t5 & 276822 & 0375821813 & 9 & Hoot (Newbery Honor Book) & $\\dots$ \\\\\n",
       "\t6 & 276822 & 038076041X & 10 & A Kid's Guide to How to Save the Planet (Camelot world) & $\\dots$ \\\\\n",
       "\t7 & 276822 & 0689804458 & 8 & A String in the Harp & $\\dots$ \\\\\n",
       "\t8 & 276822 & 0786812508 & 9 & The Sandy Bottom Orchestra & $\\dots$ \\\\\n",
       "\t9 & 276822 & 0786817070 & 10 & Artemis Fowl (Artemis Fowl, Book 1) & $\\dots$ \\\\\n",
       "\t10 & 276822 & 0805057706 & 10 & The Number Devil: A Mathematical Adventure & $\\dots$ \\\\\n",
       "\t11 & 276822 & 1551925060 & 8 & Surviving Sam & $\\dots$ \\\\\n",
       "\t12 & 276822 & 1573248533 & 10 & Random Acts of Kindness & $\\dots$ \\\\\n",
       "\t13 & 276847 & 3404145909 & 8 & Der Stein der Kelten. & $\\dots$ \\\\\n",
       "\t14 & 276847 & 3404148576 & 8 & Nordermoor & $\\dots$ \\\\\n",
       "\t15 & 276847 & 3423071516 & 10 & Der Kleine Hobbit & $\\dots$ \\\\\n",
       "\t16 & 276847 & 3426671298 & 8 & Das geheime ABC der Toten. & $\\dots$ \\\\\n",
       "\t17 & 276847 & 344215121X & 9 & Hitlers Kinder. & $\\dots$ \\\\\n",
       "\t18 & 276847 & 3442413508 & 10 & Auf Ehre und Gewissen. Roman. & $\\dots$ \\\\\n",
       "\t19 & 276847 & 3442422035 & 9 & Keiner werfe den ersten Stein. Roman. & $\\dots$ \\\\\n",
       "\t20 & 276847 & 3442435773 & 8 & Denn keiner ist ohne Schuld. & $\\dots$ \\\\\n",
       "\t21 & 276847 & 3442441080 & 10 & Im Angesicht des Feindes. & $\\dots$ \\\\\n",
       "\t22 & 276847 & 3442444020 & 8 & Denn sie betr\\textbackslash{}xc3?¼gt man nicht. & $\\dots$ \\\\\n",
       "\t23 & 276847 & 3442446414 & 10 & Mit dem K\\textbackslash{}xc3?¼hlschrank durch Irland. & $\\dots$ \\\\\n",
       "\t24 & 276847 & 3442449820 & 9 & Undank ist der V\\textbackslash{}xc3?¤ter Lohn. & $\\dots$ \\\\\n",
       "\t25 & 276847 & 3492231322 & 9 & Der Unterh\\textbackslash{}xc3?¤ndler. & $\\dots$ \\\\\n",
       "\t26 & 276847 & 3499433443 & 8 & Goldmann: Feuer in Berlin & $\\dots$ \\\\\n",
       "\t27 & 276847 & 3506464078 & 10 & Le Petit Prince. (Franz\\textbackslash{}xc3?¶sische Ausgabe). (Lernmaterialien) & $\\dots$ \\\\\n",
       "\t28 & 276847 & 3551551677 & 10 & Harry Potter und der Stein der Weisen & $\\dots$ \\\\\n",
       "\t29 & 276847 & 3551551685 & 10 & Harry Potter und die Kammer des Schreckens & $\\dots$ \\\\\n",
       "\t30 & 276847 & 3551551693 & 10 & Harry Potter und der Gefangene von Azkaban & $\\dots$ \\\\\n",
       "\t$\\dots$ & $\\dots$ & $\\dots$ & $\\dots$ & $\\dots$ &  \\\\\n",
       "\\end{tabular}\n"
      ],
      "text/plain": [
       "155059×13 DataFrame. Omitted printing of 10 columns\n",
       "│ Row    │ UserID │ ISBN       │ BookRating │\n",
       "│        │ \u001b[90mInt64\u001b[39m  │ \u001b[90mString\u001b[39m     │ \u001b[90mInt64\u001b[39m      │\n",
       "├────────┼────────┼────────────┼────────────┤\n",
       "│ 1      │ 276822 │ 0060096195 │ 10         │\n",
       "│ 2      │ 276822 │ 0141310340 │ 9          │\n",
       "│ 3      │ 276822 │ 0142302198 │ 10         │\n",
       "│ 4      │ 276822 │ 0156006065 │ 9          │\n",
       "│ 5      │ 276822 │ 0375821813 │ 9          │\n",
       "│ 6      │ 276822 │ 038076041X │ 10         │\n",
       "│ 7      │ 276822 │ 0689804458 │ 8          │\n",
       "│ 8      │ 276822 │ 0786812508 │ 9          │\n",
       "│ 9      │ 276822 │ 0786817070 │ 10         │\n",
       "│ 10     │ 276822 │ 0805057706 │ 10         │\n",
       "⋮\n",
       "│ 155049 │ 276688 │ 0553074938 │ 8          │\n",
       "│ 155050 │ 276688 │ 0553074946 │ 9          │\n",
       "│ 155051 │ 276688 │ 0553088467 │ 8          │\n",
       "│ 155052 │ 276688 │ 0553089234 │ 10         │\n",
       "│ 155053 │ 276688 │ 0684195569 │ 10         │\n",
       "│ 155054 │ 276688 │ 0684804484 │ 10         │\n",
       "│ 155055 │ 276688 │ 0688156134 │ 8          │\n",
       "│ 155056 │ 276688 │ 0743202694 │ 10         │\n",
       "│ 155057 │ 276688 │ 0836218655 │ 10         │\n",
       "│ 155058 │ 276688 │ 0836236688 │ 10         │\n",
       "│ 155059 │ 276688 │ 0892966548 │ 10         │"
      ]
     },
     "execution_count": 24,
     "metadata": {},
     "output_type": "execute_result"
    }
   ],
   "source": [
    "top_ratings = CSV.read(\"top_ratings.csv\")"
   ]
  },
  {
   "cell_type": "code",
   "execution_count": 25,
   "metadata": {},
   "outputs": [
    {
     "data": {
      "text/html": [
       "<table class=\"data-frame\"><thead><tr><th></th><th>UserID</th><th>ISBN</th><th>Rating</th></tr><tr><th></th><th>Int32</th><th>String</th><th>Int32</th></tr></thead><tbody><p>0 rows × 3 columns</p></tbody></table>"
      ],
      "text/latex": [
       "\\begin{tabular}{r|ccc}\n",
       "\t& UserID & ISBN & Rating\\\\\n",
       "\t\\hline\n",
       "\t& Int32 & String & Int32\\\\\n",
       "\t\\hline\n",
       "\\end{tabular}\n"
      ],
      "text/plain": [
       "0×3 DataFrame\n"
      ]
     },
     "execution_count": 25,
     "metadata": {},
     "output_type": "execute_result"
    }
   ],
   "source": [
    " training_data = DataFrame(UserID = Int[], ISBN = String[], Rating =\n",
    "Int[])"
   ]
  },
  {
   "cell_type": "code",
   "execution_count": 26,
   "metadata": {},
   "outputs": [
    {
     "data": {
      "text/html": [
       "<table class=\"data-frame\"><thead><tr><th></th><th>UserID</th><th>ISBN</th><th>Rating</th></tr><tr><th></th><th>Int32</th><th>String</th><th>Int32</th></tr></thead><tbody><p>0 rows × 3 columns</p></tbody></table>"
      ],
      "text/latex": [
       "\\begin{tabular}{r|ccc}\n",
       "\t& UserID & ISBN & Rating\\\\\n",
       "\t\\hline\n",
       "\t& Int32 & String & Int32\\\\\n",
       "\t\\hline\n",
       "\\end{tabular}\n"
      ],
      "text/plain": [
       "0×3 DataFrame\n"
      ]
     },
     "execution_count": 26,
     "metadata": {},
     "output_type": "execute_result"
    }
   ],
   "source": [
    " testing_data = DataFrame(UserID = Int[], ISBN = String[], Rating =\n",
    "Int[])"
   ]
  },
  {
   "cell_type": "code",
   "execution_count": 48,
   "metadata": {},
   "outputs": [],
   "source": [
    "for row in eachrow(top_ratings)\n",
    "    rand(1:10) == 10 ?\n",
    "    push!(testing_data, convert(Array, row[[:UserID, :ISBN, :BookRating]])) :\n",
    "    push!(training_data, convert(Array, row[[:UserID, :ISBN, :BookRating]]))\n",
    " end"
   ]
  },
  {
   "cell_type": "code",
   "execution_count": 49,
   "metadata": {},
   "outputs": [
    {
     "data": {
      "text/html": [
       "<table class=\"data-frame\"><thead><tr><th></th><th>UserID</th><th>ISBN</th><th>Rating</th></tr><tr><th></th><th>Int64</th><th>String</th><th>Int64</th></tr></thead><tbody><p>10,005 rows × 3 columns</p><tr><th>1</th><td>277427</td><td>002542730X</td><td>10</td></tr><tr><th>2</th><td>277427</td><td>003008685X</td><td>8</td></tr><tr><th>3</th><td>277427</td><td>0061009059</td><td>9</td></tr><tr><th>4</th><td>277427</td><td>0062507109</td><td>8</td></tr><tr><th>5</th><td>277427</td><td>0132220598</td><td>8</td></tr><tr><th>6</th><td>277427</td><td>014039026X</td><td>8</td></tr><tr><th>7</th><td>277427</td><td>0141439742</td><td>8</td></tr><tr><th>8</th><td>277427</td><td>0152050167</td><td>10</td></tr><tr><th>9</th><td>277427</td><td>0201000822</td><td>10</td></tr><tr><th>10</th><td>277427</td><td>0310435706</td><td>10</td></tr><tr><th>11</th><td>277427</td><td>0312944691</td><td>8</td></tr><tr><th>12</th><td>277427</td><td>0316776963</td><td>8</td></tr><tr><th>13</th><td>277427</td><td>0345413903</td><td>10</td></tr><tr><th>14</th><td>277427</td><td>0375408886</td><td>9</td></tr><tr><th>15</th><td>277427</td><td>0375751513</td><td>9</td></tr><tr><th>16</th><td>277427</td><td>0380702843</td><td>8</td></tr><tr><th>17</th><td>277427</td><td>0380791978</td><td>9</td></tr><tr><th>18</th><td>277427</td><td>038081904X</td><td>9</td></tr><tr><th>19</th><td>277427</td><td>0385424736</td><td>9</td></tr><tr><th>20</th><td>277427</td><td>0385486804</td><td>9</td></tr><tr><th>21</th><td>277427</td><td>0385503857</td><td>9</td></tr><tr><th>22</th><td>277427</td><td>0385504209</td><td>8</td></tr><tr><th>23</th><td>277427</td><td>039304016X</td><td>8</td></tr><tr><th>24</th><td>277427</td><td>0399225064</td><td>10</td></tr><tr><th>25</th><td>277427</td><td>0425047962</td><td>8</td></tr><tr><th>26</th><td>277427</td><td>0425104338</td><td>9</td></tr><tr><th>27</th><td>277427</td><td>0425116840</td><td>8</td></tr><tr><th>28</th><td>277427</td><td>0425133516</td><td>9</td></tr><tr><th>29</th><td>277427</td><td>0440236061</td><td>8</td></tr><tr><th>30</th><td>277427</td><td>0440236738</td><td>9</td></tr><tr><th>&vellip;</th><td>&vellip;</td><td>&vellip;</td><td>&vellip;</td></tr></tbody></table>"
      ],
      "text/latex": [
       "\\begin{tabular}{r|ccc}\n",
       "\t& UserID & ISBN & Rating\\\\\n",
       "\t\\hline\n",
       "\t& Int64 & String & Int64\\\\\n",
       "\t\\hline\n",
       "\t1 & 277427 & 002542730X & 10 \\\\\n",
       "\t2 & 277427 & 003008685X & 8 \\\\\n",
       "\t3 & 277427 & 0061009059 & 9 \\\\\n",
       "\t4 & 277427 & 0062507109 & 8 \\\\\n",
       "\t5 & 277427 & 0132220598 & 8 \\\\\n",
       "\t6 & 277427 & 014039026X & 8 \\\\\n",
       "\t7 & 277427 & 0141439742 & 8 \\\\\n",
       "\t8 & 277427 & 0152050167 & 10 \\\\\n",
       "\t9 & 277427 & 0201000822 & 10 \\\\\n",
       "\t10 & 277427 & 0310435706 & 10 \\\\\n",
       "\t11 & 277427 & 0312944691 & 8 \\\\\n",
       "\t12 & 277427 & 0316776963 & 8 \\\\\n",
       "\t13 & 277427 & 0345413903 & 10 \\\\\n",
       "\t14 & 277427 & 0375408886 & 9 \\\\\n",
       "\t15 & 277427 & 0375751513 & 9 \\\\\n",
       "\t16 & 277427 & 0380702843 & 8 \\\\\n",
       "\t17 & 277427 & 0380791978 & 9 \\\\\n",
       "\t18 & 277427 & 038081904X & 9 \\\\\n",
       "\t19 & 277427 & 0385424736 & 9 \\\\\n",
       "\t20 & 277427 & 0385486804 & 9 \\\\\n",
       "\t21 & 277427 & 0385503857 & 9 \\\\\n",
       "\t22 & 277427 & 0385504209 & 8 \\\\\n",
       "\t23 & 277427 & 039304016X & 8 \\\\\n",
       "\t24 & 277427 & 0399225064 & 10 \\\\\n",
       "\t25 & 277427 & 0425047962 & 8 \\\\\n",
       "\t26 & 277427 & 0425104338 & 9 \\\\\n",
       "\t27 & 277427 & 0425116840 & 8 \\\\\n",
       "\t28 & 277427 & 0425133516 & 9 \\\\\n",
       "\t29 & 277427 & 0440236061 & 8 \\\\\n",
       "\t30 & 277427 & 0440236738 & 9 \\\\\n",
       "\t$\\dots$ & $\\dots$ & $\\dots$ & $\\dots$ \\\\\n",
       "\\end{tabular}\n"
      ],
      "text/plain": [
       "10005×3 DataFrame\n",
       "│ Row   │ UserID │ ISBN       │ Rating │\n",
       "│       │ \u001b[90mInt64\u001b[39m  │ \u001b[90mString\u001b[39m     │ \u001b[90mInt64\u001b[39m  │\n",
       "├───────┼────────┼────────────┼────────┤\n",
       "│ 1     │ 277427 │ 002542730X │ 10     │\n",
       "│ 2     │ 277427 │ 003008685X │ 8      │\n",
       "│ 3     │ 277427 │ 0061009059 │ 9      │\n",
       "│ 4     │ 277427 │ 0062507109 │ 8      │\n",
       "│ 5     │ 277427 │ 0132220598 │ 8      │\n",
       "│ 6     │ 277427 │ 014039026X │ 8      │\n",
       "│ 7     │ 277427 │ 0141439742 │ 8      │\n",
       "│ 8     │ 277427 │ 0152050167 │ 10     │\n",
       "│ 9     │ 277427 │ 0201000822 │ 10     │\n",
       "│ 10    │ 277427 │ 0310435706 │ 10     │\n",
       "⋮\n",
       "│ 9995  │ 275970 │ 1561483516 │ 8      │\n",
       "│ 9996  │ 275970 │ 1583224890 │ 10     │\n",
       "│ 9997  │ 275970 │ 1584690445 │ 10     │\n",
       "│ 9998  │ 275970 │ 1584690453 │ 10     │\n",
       "│ 9999  │ 275970 │ 158469047X │ 10     │\n",
       "│ 10000 │ 275970 │ 1586210661 │ 9      │\n",
       "│ 10001 │ 275970 │ 1586214349 │ 8      │\n",
       "│ 10002 │ 275970 │ 1586632043 │ 10     │\n",
       "│ 10003 │ 275970 │ 1860462588 │ 8      │\n",
       "│ 10004 │ 275970 │ 3411086211 │ 10     │\n",
       "│ 10005 │ 275970 │ 9626340762 │ 8      │"
      ]
     },
     "execution_count": 49,
     "metadata": {},
     "output_type": "execute_result"
    }
   ],
   "source": [
    "training_data = CSV.read(\"training_data.csv\",DataFrame)"
   ]
  },
  {
   "cell_type": "code",
   "execution_count": 50,
   "metadata": {},
   "outputs": [
    {
     "data": {
      "text/html": [
       "<table class=\"data-frame\"><thead><tr><th></th><th>UserID</th><th>ISBN</th><th>Rating</th></tr><tr><th></th><th>Int64</th><th>String</th><th>Int64</th></tr></thead><tbody><p>1,056 rows × 3 columns</p><tr><th>1</th><td>277427</td><td>0060006641</td><td>10</td></tr><tr><th>2</th><td>277427</td><td>0441627404</td><td>10</td></tr><tr><th>3</th><td>277427</td><td>0446600415</td><td>10</td></tr><tr><th>4</th><td>277427</td><td>0671727079</td><td>9</td></tr><tr><th>5</th><td>277427</td><td>0671740504</td><td>8</td></tr><tr><th>6</th><td>277427</td><td>0671749897</td><td>8</td></tr><tr><th>7</th><td>277427</td><td>0836218817</td><td>10</td></tr><tr><th>8</th><td>277427</td><td>0842370668</td><td>10</td></tr><tr><th>9</th><td>2033</td><td>0316779032</td><td>10</td></tr><tr><th>10</th><td>2033</td><td>0375815260</td><td>10</td></tr><tr><th>11</th><td>2033</td><td>0439064864</td><td>9</td></tr><tr><th>12</th><td>2033</td><td>0439136350</td><td>9</td></tr><tr><th>13</th><td>2033</td><td>0451458028</td><td>10</td></tr><tr><th>14</th><td>2033</td><td>0451458508</td><td>10</td></tr><tr><th>15</th><td>2033</td><td>0671027441</td><td>10</td></tr><tr><th>16</th><td>2033</td><td>0812532635</td><td>8</td></tr><tr><th>17</th><td>2033</td><td>0812533313</td><td>10</td></tr><tr><th>18</th><td>2033</td><td>0812533658</td><td>10</td></tr><tr><th>19</th><td>2033</td><td>0875962432</td><td>10</td></tr><tr><th>20</th><td>2276</td><td>0312974728</td><td>9</td></tr><tr><th>21</th><td>2276</td><td>034528643X</td><td>8</td></tr><tr><th>22</th><td>2276</td><td>0345315642</td><td>10</td></tr><tr><th>23</th><td>2276</td><td>0345460693</td><td>9</td></tr><tr><th>24</th><td>2276</td><td>0440221471</td><td>10</td></tr><tr><th>25</th><td>2276</td><td>0440948754</td><td>9</td></tr><tr><th>26</th><td>2276</td><td>0446609323</td><td>9</td></tr><tr><th>27</th><td>2276</td><td>0449007383</td><td>10</td></tr><tr><th>28</th><td>2276</td><td>0671442686</td><td>10</td></tr><tr><th>29</th><td>2276</td><td>0671721224</td><td>9</td></tr><tr><th>30</th><td>2276</td><td>0812880145</td><td>8</td></tr><tr><th>&vellip;</th><td>&vellip;</td><td>&vellip;</td><td>&vellip;</td></tr></tbody></table>"
      ],
      "text/latex": [
       "\\begin{tabular}{r|ccc}\n",
       "\t& UserID & ISBN & Rating\\\\\n",
       "\t\\hline\n",
       "\t& Int64 & String & Int64\\\\\n",
       "\t\\hline\n",
       "\t1 & 277427 & 0060006641 & 10 \\\\\n",
       "\t2 & 277427 & 0441627404 & 10 \\\\\n",
       "\t3 & 277427 & 0446600415 & 10 \\\\\n",
       "\t4 & 277427 & 0671727079 & 9 \\\\\n",
       "\t5 & 277427 & 0671740504 & 8 \\\\\n",
       "\t6 & 277427 & 0671749897 & 8 \\\\\n",
       "\t7 & 277427 & 0836218817 & 10 \\\\\n",
       "\t8 & 277427 & 0842370668 & 10 \\\\\n",
       "\t9 & 2033 & 0316779032 & 10 \\\\\n",
       "\t10 & 2033 & 0375815260 & 10 \\\\\n",
       "\t11 & 2033 & 0439064864 & 9 \\\\\n",
       "\t12 & 2033 & 0439136350 & 9 \\\\\n",
       "\t13 & 2033 & 0451458028 & 10 \\\\\n",
       "\t14 & 2033 & 0451458508 & 10 \\\\\n",
       "\t15 & 2033 & 0671027441 & 10 \\\\\n",
       "\t16 & 2033 & 0812532635 & 8 \\\\\n",
       "\t17 & 2033 & 0812533313 & 10 \\\\\n",
       "\t18 & 2033 & 0812533658 & 10 \\\\\n",
       "\t19 & 2033 & 0875962432 & 10 \\\\\n",
       "\t20 & 2276 & 0312974728 & 9 \\\\\n",
       "\t21 & 2276 & 034528643X & 8 \\\\\n",
       "\t22 & 2276 & 0345315642 & 10 \\\\\n",
       "\t23 & 2276 & 0345460693 & 9 \\\\\n",
       "\t24 & 2276 & 0440221471 & 10 \\\\\n",
       "\t25 & 2276 & 0440948754 & 9 \\\\\n",
       "\t26 & 2276 & 0446609323 & 9 \\\\\n",
       "\t27 & 2276 & 0449007383 & 10 \\\\\n",
       "\t28 & 2276 & 0671442686 & 10 \\\\\n",
       "\t29 & 2276 & 0671721224 & 9 \\\\\n",
       "\t30 & 2276 & 0812880145 & 8 \\\\\n",
       "\t$\\dots$ & $\\dots$ & $\\dots$ & $\\dots$ \\\\\n",
       "\\end{tabular}\n"
      ],
      "text/plain": [
       "1056×3 DataFrame\n",
       "│ Row  │ UserID │ ISBN       │ Rating │\n",
       "│      │ \u001b[90mInt64\u001b[39m  │ \u001b[90mString\u001b[39m     │ \u001b[90mInt64\u001b[39m  │\n",
       "├──────┼────────┼────────────┼────────┤\n",
       "│ 1    │ 277427 │ 0060006641 │ 10     │\n",
       "│ 2    │ 277427 │ 0441627404 │ 10     │\n",
       "│ 3    │ 277427 │ 0446600415 │ 10     │\n",
       "│ 4    │ 277427 │ 0671727079 │ 9      │\n",
       "│ 5    │ 277427 │ 0671740504 │ 8      │\n",
       "│ 6    │ 277427 │ 0671749897 │ 8      │\n",
       "│ 7    │ 277427 │ 0836218817 │ 10     │\n",
       "│ 8    │ 277427 │ 0842370668 │ 10     │\n",
       "│ 9    │ 2033   │ 0316779032 │ 10     │\n",
       "│ 10   │ 2033   │ 0375815260 │ 10     │\n",
       "⋮\n",
       "│ 1046 │ 274301 │ 1855856905 │ 10     │\n",
       "│ 1047 │ 275970 │ 0316738956 │ 9      │\n",
       "│ 1048 │ 275970 │ 0439420105 │ 9      │\n",
       "│ 1049 │ 275970 │ 0451450957 │ 8      │\n",
       "│ 1050 │ 275970 │ 0486292568 │ 10     │\n",
       "│ 1051 │ 275970 │ 0553107755 │ 8      │\n",
       "│ 1052 │ 275970 │ 0553263218 │ 10     │\n",
       "│ 1053 │ 275970 │ 0763614130 │ 9      │\n",
       "│ 1054 │ 275970 │ 0811804534 │ 8      │\n",
       "│ 1055 │ 275970 │ 0896086011 │ 10     │\n",
       "│ 1056 │ 275970 │ 1584690461 │ 10     │"
      ]
     },
     "execution_count": 50,
     "metadata": {},
     "output_type": "execute_result"
    }
   ],
   "source": [
    "test_data = CSV.read(\"test_data.csv\",DataFrame)"
   ]
  },
  {
   "cell_type": "code",
   "execution_count": 51,
   "metadata": {},
   "outputs": [],
   "source": [
    "using Recommendation"
   ]
  },
  {
   "cell_type": "code",
   "execution_count": 53,
   "metadata": {},
   "outputs": [],
   "source": [
    "struct Event\n",
    "    UserID::Int\n",
    "    ISBN::String\n",
    "    Rating::Int\n",
    "end"
   ]
  },
  {
   "cell_type": "code",
   "execution_count": 54,
   "metadata": {},
   "outputs": [
    {
     "data": {
      "text/plain": [
       "(Dict{Int32,Int32}(), Dict{String,Int32}())"
      ]
     },
     "execution_count": 54,
     "metadata": {},
     "output_type": "execute_result"
    }
   ],
   "source": [
    "user_mappings,book_mappings= Dict{Int,Int}(),Dict{String,Int}()"
   ]
  },
  {
   "cell_type": "code",
   "execution_count": 55,
   "metadata": {},
   "outputs": [
    {
     "data": {
      "text/plain": [
       "(0, 0)"
      ]
     },
     "execution_count": 55,
     "metadata": {},
     "output_type": "execute_result"
    }
   ],
   "source": [
    "user_counter,book_counter= 0,0"
   ]
  },
  {
   "cell_type": "code",
   "execution_count": 56,
   "metadata": {
    "scrolled": true
   },
   "outputs": [
    {
     "data": {
      "text/plain": [
       "Recommendation.Event[]"
      ]
     },
     "execution_count": 56,
     "metadata": {},
     "output_type": "execute_result"
    }
   ],
   "source": [
    "events =Recommendation.Event[]"
   ]
  },
  {
   "cell_type": "code",
   "execution_count": 62,
   "metadata": {},
   "outputs": [],
   "source": [
    "for row in eachrow(training_data) \n",
    "    global  user_counter,book_counter\n",
    "    user_id,book_id, rating = row[:UserID],row[:ISBN], row[:Rating]\n",
    "    push!(events,Recommendation.Event( user_mappings[user_id],book_mappings[book_id], rating))\n",
    "end"
   ]
  },
  {
   "cell_type": "code",
   "execution_count": 63,
   "metadata": {},
   "outputs": [
    {
     "data": {
      "text/plain": [
       "20010-element Array{Recommendation.Event,1}:\n",
       " Recommendation.Event(1, 1, 10.0)\n",
       " Recommendation.Event(1, 2, 8.0)\n",
       " Recommendation.Event(1, 3, 9.0)\n",
       " Recommendation.Event(1, 4, 8.0)\n",
       " Recommendation.Event(1, 5, 8.0)\n",
       " Recommendation.Event(1, 6, 8.0)\n",
       " Recommendation.Event(1, 7, 8.0)\n",
       " Recommendation.Event(1, 8, 10.0)\n",
       " Recommendation.Event(1, 9, 10.0)\n",
       " Recommendation.Event(1, 10, 10.0)\n",
       " Recommendation.Event(1, 11, 8.0)\n",
       " Recommendation.Event(1, 12, 8.0)\n",
       " Recommendation.Event(1, 13, 10.0)\n",
       " ⋮\n",
       " Recommendation.Event(69, 9045, 10.0)\n",
       " Recommendation.Event(69, 738, 8.0)\n",
       " Recommendation.Event(69, 9046, 10.0)\n",
       " Recommendation.Event(69, 9047, 10.0)\n",
       " Recommendation.Event(69, 9048, 10.0)\n",
       " Recommendation.Event(69, 9049, 10.0)\n",
       " Recommendation.Event(69, 9050, 9.0)\n",
       " Recommendation.Event(69, 9051, 8.0)\n",
       " Recommendation.Event(69, 9052, 10.0)\n",
       " Recommendation.Event(69, 9053, 8.0)\n",
       " Recommendation.Event(69, 9054, 10.0)\n",
       " Recommendation.Event(69, 9055, 8.0)"
      ]
     },
     "execution_count": 63,
     "metadata": {},
     "output_type": "execute_result"
    }
   ],
   "source": [
    "events"
   ]
  },
  {
   "cell_type": "code",
   "execution_count": 64,
   "metadata": {},
   "outputs": [
    {
     "data": {
      "text/plain": [
       "DataAccessor(Recommendation.Event[Recommendation.Event(1, 1, 10.0), Recommendation.Event(1, 2, 8.0), Recommendation.Event(1, 3, 9.0), Recommendation.Event(1, 4, 8.0), Recommendation.Event(1, 5, 8.0), Recommendation.Event(1, 6, 8.0), Recommendation.Event(1, 7, 8.0), Recommendation.Event(1, 8, 10.0), Recommendation.Event(1, 9, 10.0), Recommendation.Event(1, 10, 10.0)  …  Recommendation.Event(69, 9046, 10.0), Recommendation.Event(69, 9047, 10.0), Recommendation.Event(69, 9048, 10.0), Recommendation.Event(69, 9049, 10.0), Recommendation.Event(69, 9050, 9.0), Recommendation.Event(69, 9051, 8.0), Recommendation.Event(69, 9052, 10.0), Recommendation.Event(69, 9053, 8.0), Recommendation.Event(69, 9054, 10.0), Recommendation.Event(69, 9055, 8.0)], [20.0 16.0 … NaN NaN; NaN NaN … NaN NaN; … ; NaN NaN … NaN NaN; NaN NaN … 20.0 16.0], Dict{Int32,Any}(), Dict{Int32,Any}())"
      ]
     },
     "execution_count": 64,
     "metadata": {},
     "output_type": "execute_result"
    }
   ],
   "source": [
    "da = DataAccessor(events, user_counter, book_counter)"
   ]
  },
  {
   "cell_type": "code",
   "execution_count": 65,
   "metadata": {},
   "outputs": [
    {
     "data": {
      "text/plain": [
       "181100-element Array{Float64,1}:\n",
       " 0.28724579635090103\n",
       " 0.26389208540700543\n",
       " 0.32037754799886003\n",
       " 0.26391735629185464\n",
       " 0.2639335454133259\n",
       " 0.26396126345805554\n",
       " 0.26397167448298303\n",
       " 0.3424505825943452\n",
       " 0.3298911580775577\n",
       " 0.32999712594627145\n",
       " 0.2639325312467967\n",
       " 0.2932582014366799\n",
       " 0.32355406152799576\n",
       " ⋮\n",
       " 0.26205908839489245\n",
       " 0.3274888212092757\n",
       " 0.32748944197052376\n",
       " 0.32748118608522125\n",
       " 0.327556758966351\n",
       " 0.32748270757471853\n",
       " 0.29482046347049834\n",
       " 0.2621193951782376\n",
       " 0.32758277728848095\n",
       " 0.2621025417934319\n",
       " 0.3274069172605459\n",
       " 0.2620071262627409"
      ]
     },
     "execution_count": 65,
     "metadata": {},
     "output_type": "execute_result"
    }
   ],
   "source": [
    "recommender = MF(da)\n",
    "build!(recommender)"
   ]
  },
  {
   "cell_type": "code",
   "execution_count": 66,
   "metadata": {},
   "outputs": [
    {
     "data": {
      "text/plain": [
       "20-element Array{Pair{Int32,Float64},1}:\n",
       " 5081 => 39.652306393908866\n",
       " 5079 => 39.652075501079345\n",
       " 5078 => 39.65183132190778\n",
       " 5077 => 35.249070013280836\n",
       " 5080 => 35.248705887464006\n",
       "  537 => 23.87735795310062\n",
       "  544 => 23.87612467302809\n",
       "  529 => 23.875627570241566\n",
       "  519 => 23.8755428464544\n",
       "  530 => 23.87518585646149\n",
       "  509 => 23.874654435699515\n",
       "  533 => 23.874261447295456\n",
       "  511 => 23.87424670047063\n",
       "  527 => 23.87424166148528\n",
       "  531 => 23.87363181742659\n",
       "  535 => 23.873392130562586\n",
       "  541 => 23.87329670918009\n",
       "  524 => 23.87315855447826\n",
       "  510 => 23.872988801021982\n",
       "  542 => 23.872778834167413"
      ]
     },
     "execution_count": 66,
     "metadata": {},
     "output_type": "execute_result"
    }
   ],
   "source": [
    "recommend(recommender, 1, 20, [1:book_counter...])"
   ]
  },
  {
   "cell_type": "code",
   "execution_count": null,
   "metadata": {},
   "outputs": [],
   "source": []
  }
 ],
 "metadata": {
  "kernelspec": {
   "display_name": "Julia 1.5.2",
   "language": "julia",
   "name": "julia-1.5"
  },
  "language_info": {
   "file_extension": ".jl",
   "mimetype": "application/julia",
   "name": "julia",
   "version": "1.5.2"
  }
 },
 "nbformat": 4,
 "nbformat_minor": 2
}
